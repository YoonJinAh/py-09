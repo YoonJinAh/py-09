{
  "nbformat": 4,
  "nbformat_minor": 0,
  "metadata": {
    "colab": {
      "name": "Summary_class.ipynb",
      "version": "0.3.2",
      "provenance": [],
      "include_colab_link": true
    },
    "kernelspec": {
      "name": "python2",
      "display_name": "Python 2"
    }
  },
  "cells": [
    {
      "cell_type": "markdown",
      "metadata": {
        "id": "view-in-github",
        "colab_type": "text"
      },
      "source": [
        "<a href=\"https://colab.research.google.com/github/YoonJinAh/py-09/blob/master/Homework/Summary_class.ipynb\" target=\"_parent\"><img src=\"https://colab.research.google.com/assets/colab-badge.svg\" alt=\"Open In Colab\"/></a>"
      ]
    },
    {
      "metadata": {
        "id": "YyKv3KEl97za",
        "colab_type": "code",
        "colab": {}
      },
      "cell_type": "code",
      "source": [
        "# class 클래스이름:\n",
        "#   def __init__(self, 인수, ...): # 생성자\n",
        "#   def 메서드이름(self, 인수, ...) # 메서드"
      ],
      "execution_count": 0,
      "outputs": []
    },
    {
      "metadata": {
        "id": "tiwXawxK6iaJ",
        "colab_type": "code",
        "outputId": "76f9d422-469b-468d-d6d8-367ab5cb3a99",
        "colab": {
          "base_uri": "https://localhost:8080/",
          "height": 87
        }
      },
      "cell_type": "code",
      "source": [
        "class Person:\n",
        "  \n",
        "  def __init__(self, name): \n",
        "    self.name = name\n",
        "    print(self.name + \" is intialized\")\n",
        "    \n",
        "  def work(self, company): # 메서드\n",
        "    print(self.name + \" is working in \" + company)\n",
        "    \n",
        "  def sleep(self): # 메서드\n",
        "    print(self.name + \" is sleeping\")\n",
        "    \n",
        "# Person instance 2개 생성\n",
        "obj = Person(\"PARK\")\n",
        "\n",
        "# method call\n",
        "obj.work(\"ABCDEF\")\n",
        "obj.sleep()\n",
        "\n",
        "# 속성이 직접 접근, 기봊적으로 파이썬에서는 모두 public\n",
        "print(\"current person object is \", obj.name)"
      ],
      "execution_count": 0,
      "outputs": [
        {
          "output_type": "stream",
          "text": [
            "PARK is intialized\n",
            "PARK is working in ABCDEF\n",
            "PARK is sleeping\n",
            "('current person object is ', 'PARK')\n"
          ],
          "name": "stdout"
        }
      ]
    },
    {
      "metadata": {
        "id": "snON1M68-W2v",
        "colab_type": "code",
        "outputId": "51c6d1be-7722-461d-b1fe-d7e456effcc0",
        "colab": {
          "base_uri": "https://localhost:8080/",
          "height": 139
        }
      },
      "cell_type": "code",
      "source": [
        "class Person:\n",
        "  \n",
        "  count = 0   \n",
        "  \n",
        "  def __init__(self, name):\n",
        "    self.name = name\n",
        "    Person.count += 1   \n",
        "    print(self.name + \" is initialized\")\n",
        "    \n",
        "  def work(self, company):\n",
        "    print(self.name + \" is working in \" + company)\n",
        "    \n",
        "  def sleep(self):\n",
        "    print(self.name + \" is sleeping\")\n",
        "    \n",
        "  @classmethod\n",
        "  def getCount(cls): \n",
        "    return cls.count\n",
        "  \n",
        "#Person instance 2개 생성\n",
        "obj1 = Person(\"PARK\")\n",
        "obj2 = Person(\"KIM\")\n",
        "\n",
        "# method call\n",
        "obj1.work(\"ABCDEF\")\n",
        "\n",
        "obj2.sleep()\n",
        "\n",
        "#속성에 직접 접근, 기복적으로 파이썬에서는 모두 public\n",
        "print(\"current person object in \", obj1.name, \", \", obj2.name)\n",
        "\n",
        "# class method 호출\n",
        "print(\"Person count ==\", Person.getCount() )\n",
        "\n",
        "# ckass variable direct access\n",
        "print(Person.count)"
      ],
      "execution_count": 0,
      "outputs": [
        {
          "output_type": "stream",
          "text": [
            "PARK is initialized\n",
            "KIM is initialized\n",
            "PARK is working in ABCDEF\n",
            "KIM is sleeping\n",
            "('current person object in ', 'PARK', ', ', 'KIM')\n",
            "('Person count ==', 2)\n",
            "2\n"
          ],
          "name": "stdout"
        }
      ]
    },
    {
      "metadata": {
        "id": "vLGJRYI9HaQz",
        "colab_type": "code",
        "outputId": "fdaf628f-cda7-4a8f-bb17-869bff1f5cf6",
        "colab": {
          "base_uri": "https://localhost:8080/",
          "height": 291
        }
      },
      "cell_type": "code",
      "source": [
        "class PrivateMemberTest:\n",
        "  \n",
        "  def __init__(self, name1, name2):\n",
        "    \n",
        "      self.name1 = name1\n",
        "      self.__name2 = name2  # private member variable\n",
        "      print(\"initialized\" + name1+\" ,\"+ name2)\n",
        "      \n",
        "  def getNames(self):\n",
        "      self.__printNames()\n",
        "      return self.name1, self.__name2\n",
        "    \n",
        "  def __printNames(self):   #private member method\n",
        "      print(self.name1, self.__name2)\n",
        "      \n",
        "# 인스턴스 생성\n",
        "obj = PrivateMemberTest(\"PARK\", \"KIM\")\n",
        "\n",
        "print(obj.name1)\n",
        "print(obj.getNames())\n",
        "print(obj.__printNames())   #error 발생\n",
        "print(obj.__name2)          #error 발생 "
      ],
      "execution_count": 0,
      "outputs": [
        {
          "output_type": "stream",
          "text": [
            "initializedPARK ,KIM\n",
            "PARK\n",
            "('PARK', 'KIM')\n",
            "('PARK', 'KIM')\n"
          ],
          "name": "stdout"
        },
        {
          "output_type": "error",
          "ename": "AttributeError",
          "evalue": "ignored",
          "traceback": [
            "\u001b[0;31m\u001b[0m",
            "\u001b[0;31mAttributeError\u001b[0mTraceback (most recent call last)",
            "\u001b[0;32m<ipython-input-11-325579061b3a>\u001b[0m in \u001b[0;36m<module>\u001b[0;34m()\u001b[0m\n\u001b[1;32m     19\u001b[0m \u001b[0;32mprint\u001b[0m\u001b[0;34m(\u001b[0m\u001b[0mobj\u001b[0m\u001b[0;34m.\u001b[0m\u001b[0mname1\u001b[0m\u001b[0;34m)\u001b[0m\u001b[0;34m\u001b[0m\u001b[0m\n\u001b[1;32m     20\u001b[0m \u001b[0;32mprint\u001b[0m\u001b[0;34m(\u001b[0m\u001b[0mobj\u001b[0m\u001b[0;34m.\u001b[0m\u001b[0mgetNames\u001b[0m\u001b[0;34m(\u001b[0m\u001b[0;34m)\u001b[0m\u001b[0;34m)\u001b[0m\u001b[0;34m\u001b[0m\u001b[0m\n\u001b[0;32m---> 21\u001b[0;31m \u001b[0;32mprint\u001b[0m\u001b[0;34m(\u001b[0m\u001b[0mobj\u001b[0m\u001b[0;34m.\u001b[0m\u001b[0m__printNames\u001b[0m\u001b[0;34m(\u001b[0m\u001b[0;34m)\u001b[0m\u001b[0;34m)\u001b[0m \u001b[0;31m#error 발생\u001b[0m\u001b[0;34m\u001b[0m\u001b[0m\n\u001b[0m\u001b[1;32m     22\u001b[0m \u001b[0;32mprint\u001b[0m\u001b[0;34m(\u001b[0m\u001b[0mobj\u001b[0m\u001b[0;34m.\u001b[0m\u001b[0m__name2\u001b[0m\u001b[0;34m)\u001b[0m \u001b[0;31m#error 발생\u001b[0m\u001b[0;34m\u001b[0m\u001b[0m\n",
            "\u001b[0;31mAttributeError\u001b[0m: PrivateMemberTest instance has no attribute '__printNames'"
          ]
        }
      ]
    },
    {
      "metadata": {
        "id": "rE97FYxBDx-B",
        "colab_type": "code",
        "outputId": "e17765ec-e9d8-4726-b134-ac0781b6a7e6",
        "colab": {
          "base_uri": "https://localhost:8080/",
          "height": 87
        }
      },
      "cell_type": "code",
      "source": [
        "def print_name(name):\n",
        "  \n",
        "  print(\"[def] \", name)\n",
        "  \n",
        "class SameTest:\n",
        "  \n",
        "  def __init__(self):\n",
        "    #아무것도 안하기 때문에 pass\n",
        "    pass\n",
        "  \n",
        "  #외부 함수와 동일한 이름으로 method 정의\n",
        "  def print_name(self, name):\n",
        "    print(\"[SameTest] \", name)\n",
        "    \n",
        "  def call_test(self):\n",
        "    \n",
        "    #외부 함수 호출\n",
        "    print_name(\"KIM\")\n",
        "    \n",
        "    #클래스 내부 method 호출\n",
        "    self.print_name(\"KIM\")\n",
        "    \n",
        "#create SameTest object\n",
        "obj = SameTest()\n",
        "\n",
        "#call function print_name\n",
        "print_name(\"LEE\")\n",
        "\n",
        "#call method print_name\n",
        "obj.print_name(\"LEE\")\n",
        "\n",
        "#call method call_test\n",
        "obj.call_test()"
      ],
      "execution_count": 0,
      "outputs": [
        {
          "output_type": "stream",
          "text": [
            "('[def] ', 'LEE')\n",
            "('[SameTest] ', 'LEE')\n",
            "('[def] ', 'KIM')\n",
            "('[SameTest] ', 'KIM')\n"
          ],
          "name": "stdout"
        }
      ]
    },
    {
      "metadata": {
        "id": "mnhLM3ikHnXj",
        "colab_type": "code",
        "colab": {}
      },
      "cell_type": "code",
      "source": [
        "def calc(list_data):\n",
        "  \n",
        "  sum = 0\n",
        "  \n",
        "  try:\n",
        "    sum = list_data[0] + list_data[1] + list_data[2]\n",
        "    \n",
        "    if sum < 0:\n",
        "      raise Exception(\"Sum is minus\")\n",
        "      \n",
        "  except IndexError as err:\n",
        "    print(str(err))\n",
        "  except Exception as err:\n",
        "    print(str(err))\n",
        "  finally:\n",
        "    print(sum)"
      ],
      "execution_count": 0,
      "outputs": []
    },
    {
      "metadata": {
        "id": "jDZMRWPOIgXa",
        "colab_type": "code",
        "outputId": "d6899b6c-e681-42b7-9713-3a873c2f5f89",
        "colab": {
          "base_uri": "https://localhost:8080/",
          "height": 52
        }
      },
      "cell_type": "code",
      "source": [
        "calc([1,2])"
      ],
      "execution_count": 0,
      "outputs": [
        {
          "output_type": "stream",
          "text": [
            "list index out of range\n",
            "0\n"
          ],
          "name": "stdout"
        }
      ]
    },
    {
      "metadata": {
        "id": "CAvWOxw4IgOP",
        "colab_type": "code",
        "outputId": "70413446-0863-4714-e96b-97acaac67b2f",
        "colab": {
          "base_uri": "https://localhost:8080/",
          "height": 52
        }
      },
      "cell_type": "code",
      "source": [
        "calc([1, 2, -100])"
      ],
      "execution_count": 0,
      "outputs": [
        {
          "output_type": "stream",
          "text": [
            "Sum is minus\n",
            "-97\n"
          ],
          "name": "stdout"
        }
      ]
    },
    {
      "metadata": {
        "id": "4rKUZt5CJFTQ",
        "colab_type": "code",
        "colab": {}
      },
      "cell_type": "code",
      "source": [
        "# 일반적인 방법\n",
        "\n",
        "f = open(\"./file_test\", 'w')\n",
        "\n",
        "f.write(\"Hello, Python !!!\")\n",
        "\n",
        "f.close()"
      ],
      "execution_count": 0,
      "outputs": []
    },
    {
      "metadata": {
        "id": "r6SnM60KJYi3",
        "colab_type": "code",
        "colab": {}
      },
      "cell_type": "code",
      "source": [
        "# with 구문을 사용하는 방법\n",
        "# with 블록을 벗어나는 순간 파일 객체 f가 자동으로 close 됨.\n",
        "\n",
        "with open(\"./file_test\", 'w') as f:\n",
        "   f.write(\"Hello, Python !!!!\")\n",
        "  "
      ],
      "execution_count": 0,
      "outputs": []
    }
  ]
}
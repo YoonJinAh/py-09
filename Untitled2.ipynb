{
  "nbformat": 4,
  "nbformat_minor": 0,
  "metadata": {
    "colab": {
      "name": "Untitled2.ipynb",
      "version": "0.3.2",
      "provenance": [],
      "include_colab_link": true
    },
    "kernelspec": {
      "name": "python3",
      "display_name": "Python 3"
    }
  },
  "cells": [
    {
      "cell_type": "markdown",
      "metadata": {
        "id": "view-in-github",
        "colab_type": "text"
      },
      "source": [
        "[View in Colaboratory](https://colab.research.google.com/github/YoonJinAh/py-09/blob/master/Untitled2.ipynb)"
      ]
    },
    {
      "metadata": {
        "id": "oqsFLvj_9G7T",
        "colab_type": "code",
        "colab": {}
      },
      "cell_type": "code",
      "source": [
        "a = [10, 20, 30, 40, 50]"
      ],
      "execution_count": 0,
      "outputs": []
    },
    {
      "metadata": {
        "id": "LdP9hCWg-nfm",
        "colab_type": "code",
        "colab": {
          "base_uri": "https://localhost:8080/",
          "height": 53
        },
        "outputId": "f790a31f-5df6-444b-c9d4-bb75b454b1a3"
      },
      "cell_type": "code",
      "source": [
        "# 0, 1, 2... 인덱스는 리스트 처음부터 시작\n",
        "# -1, -2...인덱스는 리스트 마지막부터 시작\n",
        "\n",
        "print(\"a[0] ==\", a[0], \", a[2] ==\", a[2], \", a[4] ==\", a[4])\n",
        "print(\"a[-1] ==\", a[-1], \", a[-2] ==\", a[-2], \", a[-5] ==\", a[-5])"
      ],
      "execution_count": 2,
      "outputs": [
        {
          "output_type": "stream",
          "text": [
            "a[0] == 10 , a[2] == 30 , a[4] == 50\n",
            "a[-1] == 50 , a[-2] == 40 , a[-5] == 10\n"
          ],
          "name": "stdout"
        }
      ]
    },
    {
      "metadata": {
        "id": "2zCXt1c_AG1K",
        "colab_type": "code",
        "colab": {}
      },
      "cell_type": "code",
      "source": [
        "b = [ 10, 20, \"Hello\", [True, 3.14] ]"
      ],
      "execution_count": 0,
      "outputs": []
    },
    {
      "metadata": {
        "id": "HYB7h7ZmBBvg",
        "colab_type": "code",
        "colab": {
          "base_uri": "https://localhost:8080/",
          "height": 53
        },
        "outputId": "39ba6667-2d4b-4700-8c37-5389285468fd"
      },
      "cell_type": "code",
      "source": [
        "# b[3] 또는 b[-1] 값은 [True, 3.14] 리스트 전체임\n",
        "\n",
        "print(\"b[0] ==\", b[0], \", b[2] ==\", b[2], \", b[3] ==\", b[3])\n",
        "print(\"b[-1] ==\", b[-1], \", b[-2] ==\", b[-2], \", b[-4] ==\", b[-4])"
      ],
      "execution_count": 5,
      "outputs": [
        {
          "output_type": "stream",
          "text": [
            "b[0] == 10 , b[2] == Hello , b[3] == [True, 3.14]\n",
            "b[-1] == [True, 3.14] , b[-2] == Hello , b[-4] == 10\n"
          ],
          "name": "stdout"
        }
      ]
    },
    {
      "metadata": {
        "id": "u1jMm2zrGgfc",
        "colab_type": "code",
        "colab": {
          "base_uri": "https://localhost:8080/",
          "height": 53
        },
        "outputId": "d08b6d48-d6d9-4f6b-ff94-2819de7d0617"
      },
      "cell_type": "code",
      "source": [
        "print(\"b[3][0] ==\", b[3][0], \", b[3][1] ==\", b[3][1])\n",
        "print(\"b[-1][-1] ==\", b[-1][-1], \", b[-1][-2] ==\", b[-1][-2])"
      ],
      "execution_count": 6,
      "outputs": [
        {
          "output_type": "stream",
          "text": [
            "b[3][0] == True , b[3][1] == 3.14\n",
            "b[-1][-1] == 3.14 , b[-1][-2] == True\n"
          ],
          "name": "stdout"
        }
      ]
    },
    {
      "metadata": {
        "id": "pO4SUhlbIOqB",
        "colab_type": "code",
        "colab": {}
      },
      "cell_type": "code",
      "source": [
        "a = [ 10, 20, 30, 40, 50 ]"
      ],
      "execution_count": 0,
      "outputs": []
    },
    {
      "metadata": {
        "id": "jdOYxyISIVb_",
        "colab_type": "code",
        "colab": {
          "base_uri": "https://localhost:8080/",
          "height": 71
        },
        "outputId": "754876e7-d0bf-4263-e572-318a2bc76a4f"
      },
      "cell_type": "code",
      "source": [
        "#a[0;]:2] => 인덱스 0부터 2-1 까지, a[1:] => 인덱스 1부터 끝까지\n",
        "#a[:3] => 인덱스 처음부터 3-1까지, a[:-2] => 인덱스 처음부터 -2-1 까지\n",
        "\n",
        "print(\"a[0:2] ==\", a[0:2], \", a[1:] ==\", a[1:])\n",
        "print(\"a[:3] ==\", a[:3], \", a[:-2] ==\", a[:-2])\n",
        "print(\"a[:] ==\", a[:])\n"
      ],
      "execution_count": 8,
      "outputs": [
        {
          "output_type": "stream",
          "text": [
            "a[0:2] == [10, 20] , a[1:] == [20, 30, 40, 50]\n",
            "a[:3] == [10, 20, 30] , a[:-2] == [10, 20, 30]\n",
            "a[:] == [10, 20, 30, 40, 50]\n"
          ],
          "name": "stdout"
        }
      ]
    },
    {
      "metadata": {
        "id": "SWAYjB3AJ7IY",
        "colab_type": "code",
        "colab": {}
      },
      "cell_type": "code",
      "source": [
        "a = ( 10, 20, 30, 40, 50 )"
      ],
      "execution_count": 0,
      "outputs": []
    },
    {
      "metadata": {
        "id": "s5uG_se9KANn",
        "colab_type": "code",
        "colab": {
          "base_uri": "https://localhost:8080/",
          "height": 53
        },
        "outputId": "5bb21988-f0e8-4376-be05-f0ed81e33fcd"
      },
      "cell_type": "code",
      "source": [
        "print(\"a[0] ==\",a[0], \", a[-2] ==\", a[-2], \", a[:] ==\", a[:])\n",
        "\n",
        "print(\"a[0:2] ==\", a[0:2], \", a[1:] ==\", a[1:])"
      ],
      "execution_count": 13,
      "outputs": [
        {
          "output_type": "stream",
          "text": [
            "a[0] == 10 , a[-2] == 40 , a[:] == (10, 20, 30, 40, 50)\n",
            "a[0:2] == (10, 20) , a[1:] == (20, 30, 40, 50)\n"
          ],
          "name": "stdout"
        }
      ]
    },
    {
      "metadata": {
        "id": "QsPS17kDKx6J",
        "colab_type": "code",
        "colab": {
          "base_uri": "https://localhost:8080/",
          "height": 172
        },
        "outputId": "40e485a3-68ec-409f-b6c1-61bb9d04d3d2"
      },
      "cell_type": "code",
      "source": [
        "a[0] = 100    #a[0]의 값을 100으로 변경하려하기 때문에 에러발생"
      ],
      "execution_count": 14,
      "outputs": [
        {
          "output_type": "error",
          "ename": "TypeError",
          "evalue": "ignored",
          "traceback": [
            "\u001b[0;31m---------------------------------------------------------------------------\u001b[0m",
            "\u001b[0;31mTypeError\u001b[0m                                 Traceback (most recent call last)",
            "\u001b[0;32m<ipython-input-14-8a1b3d1a28f9>\u001b[0m in \u001b[0;36m<module>\u001b[0;34m()\u001b[0m\n\u001b[0;32m----> 1\u001b[0;31m \u001b[0ma\u001b[0m\u001b[0;34m[\u001b[0m\u001b[0;36m0\u001b[0m\u001b[0;34m]\u001b[0m \u001b[0;34m=\u001b[0m \u001b[0;36m100\u001b[0m    \u001b[0;31m#a[0]의 값을 100으로 변경하려하기 때문에 에러발생\u001b[0m\u001b[0;34m\u001b[0m\u001b[0m\n\u001b[0m",
            "\u001b[0;31mTypeError\u001b[0m: 'tuple' object does not support item assignment"
          ]
        }
      ]
    },
    {
      "metadata": {
        "id": "-5v7eeF4LDMA",
        "colab_type": "code",
        "colab": {}
      },
      "cell_type": "code",
      "source": [
        "score = { \"KIM\":90, \"LEE\":85, \"JUN\":95}"
      ],
      "execution_count": 0,
      "outputs": []
    },
    {
      "metadata": {
        "id": "0uToXWSHM8fw",
        "colab_type": "code",
        "colab": {
          "base_uri": "https://localhost:8080/",
          "height": 35
        },
        "outputId": "982f464b-3850-4ad8-8dc0-8b6f2a840acb"
      },
      "cell_type": "code",
      "source": [
        "print(\"score['KIM'] ==\", score['KIM'])"
      ],
      "execution_count": 16,
      "outputs": [
        {
          "output_type": "stream",
          "text": [
            "score['KIM'] == 90\n"
          ],
          "name": "stdout"
        }
      ]
    },
    {
      "metadata": {
        "id": "DSvc_Vw6NLhz",
        "colab_type": "code",
        "colab": {
          "base_uri": "https://localhost:8080/",
          "height": 34
        },
        "outputId": "d37a45ec-84b4-4f21-b2c4-5b618776cb99"
      },
      "cell_type": "code",
      "source": [
        "score['HAN'] = 100 #새 원소 추가\n",
        "#딕셔러니는 입력한 순서대로 데이터가 들어가가는 것이 아니므로 주의해야함\n",
        "\n",
        "print(score)"
      ],
      "execution_count": 18,
      "outputs": [
        {
          "output_type": "stream",
          "text": [
            "{'KIM': 90, 'LEE': 85, 'JUN': 95, 'HAN': 100}\n"
          ],
          "name": "stdout"
        }
      ]
    },
    {
      "metadata": {
        "id": "p3GUnIjoNgwd",
        "colab_type": "code",
        "colab": {
          "base_uri": "https://localhost:8080/",
          "height": 69
        },
        "outputId": "f6644cb7-5be2-41e7-acd9-0b83e0045e78"
      },
      "cell_type": "code",
      "source": [
        "#딕셔러니 key, value, (key, value)\n",
        "\n",
        "print(\"score key ==\", score.keys())\n",
        "print(\"score vlaue ==\", score.values())\n",
        "print(\"score items ==\", score.items())"
      ],
      "execution_count": 19,
      "outputs": [
        {
          "output_type": "stream",
          "text": [
            "score key == dict_keys(['KIM', 'LEE', 'JUN', 'HAN'])\n",
            "score vlaue == dict_values([90, 85, 95, 100])\n",
            "score items == dict_items([('KIM', 90), ('LEE', 85), ('JUN', 95), ('HAN', 100)])\n"
          ],
          "name": "stdout"
        }
      ]
    },
    {
      "metadata": {
        "id": "-LUX75n5QGI8",
        "colab_type": "code",
        "colab": {}
      },
      "cell_type": "code",
      "source": [
        "a = 'A73,CD'"
      ],
      "execution_count": 0,
      "outputs": []
    },
    {
      "metadata": {
        "id": "7tgFr7YnQLnJ",
        "colab_type": "code",
        "colab": {
          "base_uri": "https://localhost:8080/",
          "height": 35
        },
        "outputId": "d1540f67-b827-4e2b-a9ff-9f0cac15e09c"
      },
      "cell_type": "code",
      "source": [
        "a[1] #a[1]은 숫자 7이 아닌 문자열 7"
      ],
      "execution_count": 21,
      "outputs": [
        {
          "output_type": "execute_result",
          "data": {
            "text/plain": [
              "'7'"
            ]
          },
          "metadata": {
            "tags": []
          },
          "execution_count": 21
        }
      ]
    },
    {
      "metadata": {
        "id": "zhWTjbJdQiio",
        "colab_type": "code",
        "colab": {
          "base_uri": "https://localhost:8080/",
          "height": 35
        },
        "outputId": "703c9180-52d4-46ee-f4c0-062ac5773fae"
      },
      "cell_type": "code",
      "source": [
        "a = a +', EFG' #+연잔자 사용\n",
        "\n",
        "a"
      ],
      "execution_count": 22,
      "outputs": [
        {
          "output_type": "execute_result",
          "data": {
            "text/plain": [
              "'A73,CD, EFG'"
            ]
          },
          "metadata": {
            "tags": []
          },
          "execution_count": 22
        }
      ]
    },
    {
      "metadata": {
        "id": "3odUH20sQ3Ca",
        "colab_type": "code",
        "colab": {
          "base_uri": "https://localhost:8080/",
          "height": 35
        },
        "outputId": "3557efd9-6058-426e-f3c2-9c943e38eb08"
      },
      "cell_type": "code",
      "source": [
        "#split() 메서드는 특정 separator를 기준으로 문자열을 분리하여 list 리턴\n",
        "\n",
        "b = a.split(',')\n",
        "\n",
        "print(b)"
      ],
      "execution_count": 23,
      "outputs": [
        {
          "output_type": "stream",
          "text": [
            "['A73', 'CD', ' EFG']\n"
          ],
          "name": "stdout"
        }
      ]
    },
    {
      "metadata": {
        "id": "tn-9ySuZRN-f",
        "colab_type": "code",
        "colab": {
          "base_uri": "https://localhost:8080/",
          "height": 238
        },
        "outputId": "83c2a431-4899-4075-b845-24b2e244a416"
      },
      "cell_type": "code",
      "source": [
        "a = [ 10, 20, 30, 40, 50 ]\n",
        "b = ( 10, 20, 30, 40, 50)\n",
        "c = { \"KIM\":90, \"LEE\":80 }\n",
        "d = 'Seoul, Korea'\n",
        "e = [ [100, 200], [300, 400], [500, 600] ]\n",
        "\n",
        "print(type(a), type(b), type(c), type(d), type(e))\n",
        "\n",
        "print(len(a), len(b), len(c), len(d), len(e))\n",
        "\n",
        "print(size(e))  #len() 과 size() 비교"
      ],
      "execution_count": 32,
      "outputs": [
        {
          "output_type": "stream",
          "text": [
            "<class 'list'> <class 'tuple'> <class 'dict'> <class 'str'> <class 'list'>\n",
            "5 5 2 12 3\n"
          ],
          "name": "stdout"
        },
        {
          "output_type": "error",
          "ename": "NameError",
          "evalue": "ignored",
          "traceback": [
            "\u001b[0;31m---------------------------------------------------------------------------\u001b[0m",
            "\u001b[0;31mNameError\u001b[0m                                 Traceback (most recent call last)",
            "\u001b[0;32m<ipython-input-32-f74cf2bd6570>\u001b[0m in \u001b[0;36m<module>\u001b[0;34m()\u001b[0m\n\u001b[1;32m      9\u001b[0m \u001b[0mprint\u001b[0m\u001b[0;34m(\u001b[0m\u001b[0mlen\u001b[0m\u001b[0;34m(\u001b[0m\u001b[0ma\u001b[0m\u001b[0;34m)\u001b[0m\u001b[0;34m,\u001b[0m \u001b[0mlen\u001b[0m\u001b[0;34m(\u001b[0m\u001b[0mb\u001b[0m\u001b[0;34m)\u001b[0m\u001b[0;34m,\u001b[0m \u001b[0mlen\u001b[0m\u001b[0;34m(\u001b[0m\u001b[0mc\u001b[0m\u001b[0;34m)\u001b[0m\u001b[0;34m,\u001b[0m \u001b[0mlen\u001b[0m\u001b[0;34m(\u001b[0m\u001b[0md\u001b[0m\u001b[0;34m)\u001b[0m\u001b[0;34m,\u001b[0m \u001b[0mlen\u001b[0m\u001b[0;34m(\u001b[0m\u001b[0me\u001b[0m\u001b[0;34m)\u001b[0m\u001b[0;34m)\u001b[0m\u001b[0;34m\u001b[0m\u001b[0m\n\u001b[1;32m     10\u001b[0m \u001b[0;34m\u001b[0m\u001b[0m\n\u001b[0;32m---> 11\u001b[0;31m \u001b[0mprint\u001b[0m\u001b[0;34m(\u001b[0m\u001b[0msize\u001b[0m\u001b[0;34m(\u001b[0m\u001b[0me\u001b[0m\u001b[0;34m)\u001b[0m\u001b[0;34m)\u001b[0m  \u001b[0;31m#len() 과 size() 비교\u001b[0m\u001b[0;34m\u001b[0m\u001b[0m\n\u001b[0m",
            "\u001b[0;31mNameError\u001b[0m: name 'size' is not defined"
          ]
        }
      ]
    },
    {
      "metadata": {
        "id": "w6lV1DzXUuXY",
        "colab_type": "code",
        "colab": {
          "base_uri": "https://localhost:8080/",
          "height": 203
        },
        "outputId": "cc517628-52b7-4717-fc50-5bd8de880240"
      },
      "cell_type": "code",
      "source": [
        "a = 'Hello'\n",
        "b = { \"KIM\":90, \"LEE\":80, }\n",
        "\n",
        "print(list(a), list(b.keys()), list(b.value()), list(b.items()))"
      ],
      "execution_count": 33,
      "outputs": [
        {
          "output_type": "error",
          "ename": "AttributeError",
          "evalue": "ignored",
          "traceback": [
            "\u001b[0;31m---------------------------------------------------------------------------\u001b[0m",
            "\u001b[0;31mAttributeError\u001b[0m                            Traceback (most recent call last)",
            "\u001b[0;32m<ipython-input-33-8c470a17c9c3>\u001b[0m in \u001b[0;36m<module>\u001b[0;34m()\u001b[0m\n\u001b[1;32m      2\u001b[0m \u001b[0mb\u001b[0m \u001b[0;34m=\u001b[0m \u001b[0;34m{\u001b[0m \u001b[0;34m\"KIM\"\u001b[0m\u001b[0;34m:\u001b[0m\u001b[0;36m90\u001b[0m\u001b[0;34m,\u001b[0m \u001b[0;34m\"LEE\"\u001b[0m\u001b[0;34m:\u001b[0m\u001b[0;36m80\u001b[0m\u001b[0;34m,\u001b[0m \u001b[0;34m}\u001b[0m\u001b[0;34m\u001b[0m\u001b[0m\n\u001b[1;32m      3\u001b[0m \u001b[0;34m\u001b[0m\u001b[0m\n\u001b[0;32m----> 4\u001b[0;31m \u001b[0mprint\u001b[0m\u001b[0;34m(\u001b[0m\u001b[0mlist\u001b[0m\u001b[0;34m(\u001b[0m\u001b[0ma\u001b[0m\u001b[0;34m)\u001b[0m\u001b[0;34m,\u001b[0m \u001b[0mlist\u001b[0m\u001b[0;34m(\u001b[0m\u001b[0mb\u001b[0m\u001b[0;34m.\u001b[0m\u001b[0mkeys\u001b[0m\u001b[0;34m(\u001b[0m\u001b[0;34m)\u001b[0m\u001b[0;34m)\u001b[0m\u001b[0;34m,\u001b[0m \u001b[0mlist\u001b[0m\u001b[0;34m(\u001b[0m\u001b[0mb\u001b[0m\u001b[0;34m.\u001b[0m\u001b[0mvalue\u001b[0m\u001b[0;34m(\u001b[0m\u001b[0;34m)\u001b[0m\u001b[0;34m)\u001b[0m\u001b[0;34m,\u001b[0m \u001b[0mlist\u001b[0m\u001b[0;34m(\u001b[0m\u001b[0mb\u001b[0m\u001b[0;34m.\u001b[0m\u001b[0mitems\u001b[0m\u001b[0;34m(\u001b[0m\u001b[0;34m)\u001b[0m\u001b[0;34m)\u001b[0m\u001b[0;34m)\u001b[0m\u001b[0;34m\u001b[0m\u001b[0m\n\u001b[0m",
            "\u001b[0;31mAttributeError\u001b[0m: 'dict' object has no attribute 'value'"
          ]
        }
      ]
    }
  ]
}
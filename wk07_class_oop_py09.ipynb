{
  "nbformat": 4,
  "nbformat_minor": 0,
  "metadata": {
    "colab": {
      "name": "wk07_class_oop_py09.ipynb",
      "version": "0.3.2",
      "provenance": [],
      "collapsed_sections": [
        "lBCbDwJI8lxK",
        "QtX2LnWF8lxf"
      ],
      "include_colab_link": true
    },
    "kernelspec": {
      "display_name": "Python 3",
      "language": "python",
      "name": "python3"
    }
  },
  "cells": [
    {
      "cell_type": "markdown",
      "metadata": {
        "id": "view-in-github",
        "colab_type": "text"
      },
      "source": [
        "<a href=\"https://colab.research.google.com/github/YoonJinAh/py-09/blob/master/wk07_class_oop_py09.ipynb\" target=\"_parent\"><img src=\"https://colab.research.google.com/assets/colab-badge.svg\" alt=\"Open In Colab\"/></a>"
      ]
    },
    {
      "metadata": {
        "id": "dgmys0gTDPhi",
        "colab_type": "toc"
      },
      "cell_type": "markdown",
      "source": [
        ">[Chapter 06-01](#scrollTo=41fRZkp_8lvx)\n",
        "\n",
        ">>[클래스와 객체 지향 개발](#scrollTo=41fRZkp_8lvx)\n",
        "\n",
        ">>[파이썬에서 클래스 사용하기](#scrollTo=MU-P_4jB8lvz)\n",
        "\n",
        ">>>[클래스로 객체(인스턴스) 만들기](#scrollTo=VrTquowd8lv1)\n",
        "\n",
        ">>>[인스턴스 이용하기](#scrollTo=eUbFjqim8lv7)\n",
        "\n",
        ">[Chapter06-02](#scrollTo=A9hgrqlB8lwN)\n",
        "\n",
        ">>[클래스 만들기](#scrollTo=A9hgrqlB8lwN)\n",
        "\n",
        ">>>[클래스 정의하기](#scrollTo=oida-X7x8lwO)\n",
        "\n",
        ">>>[인스턴스의 속성](#scrollTo=bF5xjOKz8lwR)\n",
        "\n",
        ">>>[메쏘드의 정의와 초기화 메쏘드 ‘init( )’](#scrollTo=b4CNsmtl8lwf)\n",
        "\n",
        ">>>[메쏘드와 제1인수 ‘self’](#scrollTo=LlES966x8lwm)\n",
        "\n",
        ">>>[속성의 은폐](#scrollTo=cmrckcGs8lw0)\n",
        "\n",
        ">>>[다음 변수들의 차이점을 이해!](#scrollTo=lBCbDwJI8lxK)\n",
        "\n",
        ">[Chapter07-01](#scrollTo=hFWAE3YM8lxL)\n",
        "\n",
        ">>[클래스 상속과 고급 객체 지향 기능](#scrollTo=hFWAE3YM8lxL)\n",
        "\n",
        ">>[클래스를 상속한다](#scrollTo=MZFuSasL8lxL)\n",
        "\n",
        ">>>[초기화 메쏘드의 오버라이드](#scrollTo=zFZaijXw8lxQ)\n",
        "\n",
        ">>>[Solution to the above error](#scrollTo=QtX2LnWF8lxf)\n",
        "\n",
        ">>>[super( )를 사용한 슈퍼클래스의 취득](#scrollTo=tHxgdDMK8lxg)\n",
        "\n",
        ">>>[슬롯(Slot)](#scrollTo=uYlZEBq28lxn)\n",
        "\n",
        ">>>[프로퍼티(property)](#scrollTo=plliGQGA8lxu)\n",
        "\n",
        ">>>[더미 데코레이터를 사용하면 보다 간편하게 속성을 정의 할 수 있다](#scrollTo=U6mAothf8lx3)\n",
        "\n",
        ">[Chapter 07-03](#scrollTo=gQ2bJJgn8lx-)\n",
        "\n",
        ">>[내장형을 상속하다](#scrollTo=gQ2bJJgn8lx-)\n",
        "\n",
        ">>[딕셔너리형을 상속한다](#scrollTo=KUnhFPoR8lx-)\n",
        "\n",
        ">[Chapter08-01](#scrollTo=GT3pma8_8lyJ)\n",
        "\n",
        ">>[모듈 파일 만들기](#scrollTo=GT3pma8_8lyJ)\n",
        "\n",
        ">>>[모듈을 import하는 과정](#scrollTo=unBrcmm78lyK)\n",
        "\n",
        ">>>[파일을 실행할 때만 실행하는 블록](#scrollTo=LazpUpKr8lyQ)\n",
        "\n",
        ">>>[클래스와 모듈](#scrollTo=bMitq7LL8lyS)\n",
        "\n",
        ">>[[wk09] homework](#scrollTo=Ay4gYqC68lyZ)\n",
        "\n",
        ">>>>[제출 파일명: Summary_class.ipynb](#scrollTo=Ay4gYqC68lyZ)\n",
        "\n"
      ]
    },
    {
      "metadata": {
        "id": "41fRZkp_8lvx",
        "colab_type": "text"
      },
      "cell_type": "markdown",
      "source": [
        "# Chapter 06-01\n",
        "## 클래스와 객체 지향 개발"
      ]
    },
    {
      "metadata": {
        "id": "MU-P_4jB8lvz",
        "colab_type": "text"
      },
      "cell_type": "markdown",
      "source": [
        "## 파이썬에서 클래스 사용하기"
      ]
    },
    {
      "metadata": {
        "id": "VrTquowd8lv1",
        "colab_type": "text"
      },
      "cell_type": "markdown",
      "source": [
        "### 클래스로 객체(인스턴스) 만들기"
      ]
    },
    {
      "metadata": {
        "id": "pbe-wewf8lv1",
        "colab_type": "code",
        "colab": {}
      },
      "cell_type": "code",
      "source": [
        "# Decimal 클래스를 사용할 준비\n",
        "from decimal import Decimal\n",
        "# Decimal 클래스를 가져옴"
      ],
      "execution_count": 0,
      "outputs": []
    },
    {
      "metadata": {
        "id": "AuwZkc7W8lv6",
        "colab_type": "code",
        "outputId": "f126aaa8-2a33-4607-f794-e7ffc50cec4c",
        "colab": {
          "base_uri": "https://localhost:8080/",
          "height": 35
        }
      },
      "cell_type": "code",
      "source": [
        "# Deciaml 클래스 사용하기\n",
        "d = Decimal(10)    # Deciaml 클래스의 인스턴스 만들기\n",
        "print(d)"
      ],
      "execution_count": 0,
      "outputs": [
        {
          "output_type": "stream",
          "text": [
            "10\n"
          ],
          "name": "stdout"
        }
      ]
    },
    {
      "metadata": {
        "id": "eUbFjqim8lv7",
        "colab_type": "text"
      },
      "cell_type": "markdown",
      "source": [
        "### 인스턴스 이용하기"
      ]
    },
    {
      "metadata": {
        "id": "65WAO8858lv9",
        "colab_type": "code",
        "outputId": "9cbb5568-266d-4882-a906-12845040e364",
        "colab": {
          "base_uri": "https://localhost:8080/",
          "height": 35
        }
      },
      "cell_type": "code",
      "source": [
        "# 인스턴스를 사용한 연산\n",
        "print(d+20)        # Decimal 클래스 인스턴스에 수치 20 더하기"
      ],
      "execution_count": 0,
      "outputs": [
        {
          "output_type": "stream",
          "text": [
            "30\n"
          ],
          "name": "stdout"
        }
      ]
    },
    {
      "metadata": {
        "id": "XlQmH1pE8lv-",
        "colab_type": "code",
        "outputId": "db410994-6fbe-4d22-fb9b-aac59f1b6c12",
        "colab": {
          "base_uri": "https://localhost:8080/",
          "height": 35
        }
      },
      "cell_type": "code",
      "source": [
        "# Decimal형을 사용한 비교\n",
        "0.1*3 == 0.3    # 0.1에 3을 곱해서 0.3과 비교 (실수 연산이 파이썬의 기본 연산 방법)"
      ],
      "execution_count": 0,
      "outputs": [
        {
          "output_type": "execute_result",
          "data": {
            "text/plain": [
              "False"
            ]
          },
          "metadata": {
            "tags": []
          },
          "execution_count": 5
        }
      ]
    },
    {
      "metadata": {
        "id": "1kVsrud28lwB",
        "colab_type": "code",
        "outputId": "de92e4bf-de72-4fde-f87b-c05bbf3ebfb9",
        "colab": {
          "base_uri": "https://localhost:8080/",
          "height": 35
        }
      },
      "cell_type": "code",
      "source": [
        "0.1*3 ,Decimal(\"0.1\")*3 "
      ],
      "execution_count": 0,
      "outputs": [
        {
          "output_type": "execute_result",
          "data": {
            "text/plain": [
              "(0.30000000000000004, Decimal('0.3'))"
            ]
          },
          "metadata": {
            "tags": []
          },
          "execution_count": 7
        }
      ]
    },
    {
      "metadata": {
        "id": "vraEJP_A8lwD",
        "colab_type": "code",
        "outputId": "cedf2e8a-0810-490f-a3e1-316d598d381c",
        "colab": {
          "base_uri": "https://localhost:8080/",
          "height": 35
        }
      },
      "cell_type": "code",
      "source": [
        "# Decimal형을 사용해야 예상대로 비교\n",
        "Decimal(\"0.1\")*3 == Decimal(\"0.3\") , Decimal(\"0.1\")*3 == 0.3"
      ],
      "execution_count": 0,
      "outputs": [
        {
          "output_type": "execute_result",
          "data": {
            "text/plain": [
              "(True, False)"
            ]
          },
          "metadata": {
            "tags": []
          },
          "execution_count": 9
        }
      ]
    },
    {
      "metadata": {
        "id": "9EJomQ_F8lwG",
        "colab_type": "code",
        "outputId": "ef47bdc0-4aa7-4fe4-a270-b8abf16bb59d",
        "colab": {
          "base_uri": "https://localhost:8080/",
          "height": 35
        }
      },
      "cell_type": "code",
      "source": [
        "# 제곱근 계산하기 d(10)\n",
        "print(d.sqrt())    # 인스턴스 d에 sqrt() 메쏘드를 사용함 (Decimal class에 내장된 sqrt() 사용)"
      ],
      "execution_count": 0,
      "outputs": [
        {
          "output_type": "stream",
          "text": [
            "3.162277660168379331998893544\n"
          ],
          "name": "stdout"
        }
      ]
    },
    {
      "metadata": {
        "id": "l72EDOKT8lwH",
        "colab_type": "code",
        "outputId": "3b83f808-f53b-4036-a55e-fe7315ee7f32",
        "colab": {
          "base_uri": "https://localhost:8080/",
          "height": 172
        }
      },
      "cell_type": "code",
      "source": [
        "sqrt(10) "
      ],
      "execution_count": 0,
      "outputs": [
        {
          "output_type": "error",
          "ename": "NameError",
          "evalue": "ignored",
          "traceback": [
            "\u001b[0;31m---------------------------------------------------------------------------\u001b[0m",
            "\u001b[0;31mNameError\u001b[0m                                 Traceback (most recent call last)",
            "\u001b[0;32m<ipython-input-11-0c2ba68b944d>\u001b[0m in \u001b[0;36m<module>\u001b[0;34m()\u001b[0m\n\u001b[0;32m----> 1\u001b[0;31m \u001b[0msqrt\u001b[0m\u001b[0;34m(\u001b[0m\u001b[0;36m10\u001b[0m\u001b[0;34m)\u001b[0m\u001b[0;34m\u001b[0m\u001b[0m\n\u001b[0m",
            "\u001b[0;31mNameError\u001b[0m: name 'sqrt' is not defined"
          ]
        }
      ]
    },
    {
      "metadata": {
        "id": "A9hgrqlB8lwN",
        "colab_type": "text"
      },
      "cell_type": "markdown",
      "source": [
        "# Chapter06-02\n",
        "## 클래스 만들기"
      ]
    },
    {
      "metadata": {
        "id": "oida-X7x8lwO",
        "colab_type": "text"
      },
      "cell_type": "markdown",
      "source": [
        "### 클래스 정의하기"
      ]
    },
    {
      "metadata": {
        "id": "CzNvhU4E8lwP",
        "colab_type": "code",
        "colab": {}
      },
      "cell_type": "code",
      "source": [
        "# MyClass 클래스를 정의한다\n",
        "class MyClass:     # 클래스 정의\n",
        "    pass           # 처리 내용을 기술함"
      ],
      "execution_count": 0,
      "outputs": []
    },
    {
      "metadata": {
        "id": "3sztczaG8lwR",
        "colab_type": "text"
      },
      "cell_type": "markdown",
      "source": [
        "> pass 문은 아무것도 하지 않습니다. 최소한의 클래스를 만들 때 흔히 사용된다:"
      ]
    },
    {
      "metadata": {
        "id": "bF5xjOKz8lwR",
        "colab_type": "text"
      },
      "cell_type": "markdown",
      "source": [
        "### 인스턴스(=객체)의 속성"
      ]
    },
    {
      "metadata": {
        "id": "rskCcJIG8lwR",
        "colab_type": "code",
        "colab": {}
      },
      "cell_type": "code",
      "source": [
        "# MyClass 인스턴스 만들기\n",
        "i = MyClass()   # 변수에 인스턴스를 대입함"
      ],
      "execution_count": 0,
      "outputs": []
    },
    {
      "metadata": {
        "id": "A4TMniGB8lwT",
        "colab_type": "code",
        "outputId": "6911115b-4758-4cd9-c47d-d4443b8cc7e9",
        "colab": {
          "base_uri": "https://localhost:8080/",
          "height": 35
        }
      },
      "cell_type": "code",
      "source": [
        "# 속성을 이용한다\n",
        "i.value = 5     # value라는 이름의 속성에 수치를 대입\n",
        "i.value         # 속성 값을 표시"
      ],
      "execution_count": 0,
      "outputs": [
        {
          "output_type": "execute_result",
          "data": {
            "text/plain": [
              "5"
            ]
          },
          "metadata": {
            "tags": []
          },
          "execution_count": 14
        }
      ]
    },
    {
      "metadata": {
        "id": "kWrerWP78lwV",
        "colab_type": "code",
        "outputId": "74fddcfa-be6e-48ae-b98f-37dee3688164",
        "colab": {
          "base_uri": "https://localhost:8080/",
          "height": 172
        }
      },
      "cell_type": "code",
      "source": [
        "# 미정의(정의되지 않은) 속성 참조\n",
        "i.py, i.undefined"
      ],
      "execution_count": 0,
      "outputs": [
        {
          "output_type": "error",
          "ename": "AttributeError",
          "evalue": "ignored",
          "traceback": [
            "\u001b[0;31m---------------------------------------------------------------------------\u001b[0m",
            "\u001b[0;31mAttributeError\u001b[0m                            Traceback (most recent call last)",
            "\u001b[0;32m<ipython-input-15-934a87501da9>\u001b[0m in \u001b[0;36m<module>\u001b[0;34m()\u001b[0m\n\u001b[0;32m----> 1\u001b[0;31m \u001b[0mi\u001b[0m\u001b[0;34m.\u001b[0m\u001b[0mpy\u001b[0m\u001b[0;34m,\u001b[0m \u001b[0mi\u001b[0m\u001b[0;34m.\u001b[0m\u001b[0mundefined\u001b[0m\u001b[0;34m\u001b[0m\u001b[0m\n\u001b[0m",
            "\u001b[0;31mAttributeError\u001b[0m: 'MyClass' object has no attribute 'py'"
          ]
        }
      ]
    },
    {
      "metadata": {
        "id": "DOdG5DI58lwW",
        "colab_type": "code",
        "outputId": "e51d52b4-57c6-4d81-ad96-163c30471e44",
        "colab": {
          "base_uri": "https://localhost:8080/",
          "height": 136
        }
      },
      "cell_type": "code",
      "source": [
        "# 속성은 인스턴스마다 존재한다\n",
        "i2 = MyClass()   # MyClass의 인스턴스를 별도로 정의\n",
        "i2.value         # value 속성을 참조하려고 하면\n",
        "　　　　　　　　　    # 정의되지 않았으므로 오류가 발생"
      ],
      "execution_count": 0,
      "outputs": [
        {
          "output_type": "error",
          "ename": "SyntaxError",
          "evalue": "ignored",
          "traceback": [
            "\u001b[0;36m  File \u001b[0;32m\"<ipython-input-16-aa4a34ddac93>\"\u001b[0;36m, line \u001b[0;32m3\u001b[0m\n\u001b[0;31m    # 정의되지 않았으므로 오류가 발생\u001b[0m\n\u001b[0m    ^\u001b[0m\n\u001b[0;31mSyntaxError\u001b[0m\u001b[0;31m:\u001b[0m invalid character in identifier\n"
          ]
        }
      ]
    },
    {
      "metadata": {
        "id": "VItllBXt8lwX",
        "colab_type": "code",
        "outputId": "eae2c6b2-4af2-4b2c-8473-63f0f6fc2249",
        "colab": {
          "base_uri": "https://localhost:8080/",
          "height": 35
        }
      },
      "cell_type": "code",
      "source": [
        "i.value"
      ],
      "execution_count": 0,
      "outputs": [
        {
          "output_type": "execute_result",
          "data": {
            "text/plain": [
              "5"
            ]
          },
          "metadata": {
            "tags": []
          },
          "execution_count": 17
        }
      ]
    },
    {
      "metadata": {
        "id": "FJFpHrvo8lwa",
        "colab_type": "code",
        "outputId": "92531bfd-38cb-4658-dfed-0e040a40ff05",
        "colab": {
          "base_uri": "https://localhost:8080/",
          "height": 35
        }
      },
      "cell_type": "code",
      "source": [
        "type(i)"
      ],
      "execution_count": 0,
      "outputs": [
        {
          "output_type": "execute_result",
          "data": {
            "text/plain": [
              "__main__.MyClass"
            ]
          },
          "metadata": {
            "tags": []
          },
          "execution_count": 18
        }
      ]
    },
    {
      "metadata": {
        "id": "-IHjpdP58lwd",
        "colab_type": "code",
        "outputId": "f154f10d-ab7f-4689-d319-19b11d05fe21",
        "colab": {
          "base_uri": "https://localhost:8080/",
          "height": 971
        }
      },
      "cell_type": "code",
      "source": [
        "dir(MyClass),dir(i) # 안에 있는 멤버함수들을 볼 수 있다."
      ],
      "execution_count": 0,
      "outputs": [
        {
          "output_type": "execute_result",
          "data": {
            "text/plain": [
              "(['__class__',\n",
              "  '__delattr__',\n",
              "  '__dict__',\n",
              "  '__dir__',\n",
              "  '__doc__',\n",
              "  '__eq__',\n",
              "  '__format__',\n",
              "  '__ge__',\n",
              "  '__getattribute__',\n",
              "  '__gt__',\n",
              "  '__hash__',\n",
              "  '__init__',\n",
              "  '__init_subclass__',\n",
              "  '__le__',\n",
              "  '__lt__',\n",
              "  '__module__',\n",
              "  '__ne__',\n",
              "  '__new__',\n",
              "  '__reduce__',\n",
              "  '__reduce_ex__',\n",
              "  '__repr__',\n",
              "  '__setattr__',\n",
              "  '__sizeof__',\n",
              "  '__str__',\n",
              "  '__subclasshook__',\n",
              "  '__weakref__'],\n",
              " ['__class__',\n",
              "  '__delattr__',\n",
              "  '__dict__',\n",
              "  '__dir__',\n",
              "  '__doc__',\n",
              "  '__eq__',\n",
              "  '__format__',\n",
              "  '__ge__',\n",
              "  '__getattribute__',\n",
              "  '__gt__',\n",
              "  '__hash__',\n",
              "  '__init__',\n",
              "  '__init_subclass__',\n",
              "  '__le__',\n",
              "  '__lt__',\n",
              "  '__module__',\n",
              "  '__ne__',\n",
              "  '__new__',\n",
              "  '__reduce__',\n",
              "  '__reduce_ex__',\n",
              "  '__repr__',\n",
              "  '__setattr__',\n",
              "  '__sizeof__',\n",
              "  '__str__',\n",
              "  '__subclasshook__',\n",
              "  '__weakref__',\n",
              "  'value'])"
            ]
          },
          "metadata": {
            "tags": []
          },
          "execution_count": 19
        }
      ]
    },
    {
      "metadata": {
        "id": "b4CNsmtl8lwf",
        "colab_type": "text"
      },
      "cell_type": "markdown",
      "source": [
        "### 메쏘드의 정의와 초기화 메쏘드 ‘__init__( )’"
      ]
    },
    {
      "metadata": {
        "id": "6c1xDmkC8lwg",
        "colab_type": "code",
        "colab": {}
      },
      "cell_type": "code",
      "source": [
        "# 초기화 메쏘드를 가진 클래스 정의\n",
        "class MyClass2:\n",
        "    def __init__(self):   # 초기화 메쏘드를 정의\n",
        "        self.value = 0    # 인스턴스에 속성을 추가\n",
        "        print(\"This is __init__() method !\")"
      ],
      "execution_count": 0,
      "outputs": []
    },
    {
      "metadata": {
        "id": "HmRwrobX8lwh",
        "colab_type": "code",
        "outputId": "29e44c59-61e3-461b-f639-a81efd0c21d4",
        "colab": {
          "base_uri": "https://localhost:8080/",
          "height": 35
        }
      },
      "cell_type": "code",
      "source": [
        "# MyClass2 클래스 사용하기\n",
        "i3 = MyClass2()           # 인스턴스를 만듦"
      ],
      "execution_count": 0,
      "outputs": [
        {
          "output_type": "stream",
          "text": [
            "This is __init__() method !\n"
          ],
          "name": "stdout"
        }
      ]
    },
    {
      "metadata": {
        "id": "TUnPPkEO8lwj",
        "colab_type": "code",
        "outputId": "c16a8d7f-6375-422d-9108-3e8b02eda574",
        "colab": {
          "base_uri": "https://localhost:8080/",
          "height": 35
        }
      },
      "cell_type": "code",
      "source": [
        "i3.value                  # 인스턴스의 속성을 표시함"
      ],
      "execution_count": 0,
      "outputs": [
        {
          "output_type": "execute_result",
          "data": {
            "text/plain": [
              "0"
            ]
          },
          "metadata": {
            "tags": []
          },
          "execution_count": 22
        }
      ]
    },
    {
      "metadata": {
        "id": "Pw66XobO8lwl",
        "colab_type": "code",
        "outputId": "02ed86a1-7a76-447e-e45c-cf768fd04ced",
        "colab": {
          "base_uri": "https://localhost:8080/",
          "height": 503
        }
      },
      "cell_type": "code",
      "source": [
        "dir(i3)"
      ],
      "execution_count": 0,
      "outputs": [
        {
          "output_type": "execute_result",
          "data": {
            "text/plain": [
              "['__class__',\n",
              " '__delattr__',\n",
              " '__dict__',\n",
              " '__dir__',\n",
              " '__doc__',\n",
              " '__eq__',\n",
              " '__format__',\n",
              " '__ge__',\n",
              " '__getattribute__',\n",
              " '__gt__',\n",
              " '__hash__',\n",
              " '__init__',\n",
              " '__init_subclass__',\n",
              " '__le__',\n",
              " '__lt__',\n",
              " '__module__',\n",
              " '__ne__',\n",
              " '__new__',\n",
              " '__reduce__',\n",
              " '__reduce_ex__',\n",
              " '__repr__',\n",
              " '__setattr__',\n",
              " '__sizeof__',\n",
              " '__str__',\n",
              " '__subclasshook__',\n",
              " '__weakref__',\n",
              " 'value']"
            ]
          },
          "metadata": {
            "tags": []
          },
          "execution_count": 23
        }
      ]
    },
    {
      "metadata": {
        "id": "LlES966x8lwm",
        "colab_type": "text"
      },
      "cell_type": "markdown",
      "source": [
        "### 메쏘드와 제1인수 ‘self’"
      ]
    },
    {
      "metadata": {
        "id": "9UDxCINb8lwo",
        "colab_type": "code",
        "colab": {}
      },
      "cell_type": "code",
      "source": [
        "# Prism클래스의 정의\n",
        "class Prism:\n",
        "    def __init__(self, width, height, depth):\n",
        "        # 초기화 메쏘드를 정의\n",
        "        self.width = width    # 인수를 속성에 할당\n",
        "        self.height = height\n",
        "        self.depth = depth\n",
        "\n",
        "    def content(self):\n",
        "        # 부피를 계산함\n",
        "        return self.width*self.height*self.depth"
      ],
      "execution_count": 0,
      "outputs": []
    },
    {
      "metadata": {
        "id": "kgq_hyu_8lwq",
        "colab_type": "code",
        "outputId": "7c499ab3-9a84-4dea-92ab-74952ebf18fa",
        "colab": {
          "base_uri": "https://localhost:8080/",
          "height": 35
        }
      },
      "cell_type": "code",
      "source": [
        "# Prism 클래스 사용하기\n",
        "p1 = Prism(10, 20, 30)\n",
        "print(p1.content())"
      ],
      "execution_count": 0,
      "outputs": [
        {
          "output_type": "stream",
          "text": [
            "6000\n"
          ],
          "name": "stdout"
        }
      ]
    },
    {
      "metadata": {
        "id": "aTZdBXM28lws",
        "colab_type": "code",
        "outputId": "fb8bc4b7-a95e-42ad-ffaf-ad728e3ef8a2",
        "colab": {
          "base_uri": "https://localhost:8080/",
          "height": 35
        }
      },
      "cell_type": "code",
      "source": [
        "# 다른 수치를 지정해서 인스턴스 만들기\n",
        "p2 = Prism(50, 60, 70)   # 인수를 바꿈\n",
        "print(p2.content())      # 변경한 인수로 부피를 계산함"
      ],
      "execution_count": 0,
      "outputs": [
        {
          "output_type": "stream",
          "text": [
            "210000\n"
          ],
          "name": "stdout"
        }
      ]
    },
    {
      "metadata": {
        "id": "_OI7Snvj8lwt",
        "colab_type": "code",
        "outputId": "d07e04b0-0ec9-491f-8b95-2023d6bce179",
        "colab": {
          "base_uri": "https://localhost:8080/",
          "height": 35
        }
      },
      "cell_type": "code",
      "source": [
        "# 인스턴스로부터 속성을 읽어 내기\n",
        "p1.height"
      ],
      "execution_count": 0,
      "outputs": [
        {
          "output_type": "execute_result",
          "data": {
            "text/plain": [
              "20"
            ]
          },
          "metadata": {
            "tags": []
          },
          "execution_count": 27
        }
      ]
    },
    {
      "metadata": {
        "id": "kSzL691Y8lwv",
        "colab_type": "code",
        "outputId": "f0efee61-30fb-421b-e7d9-917366db50ab",
        "colab": {
          "base_uri": "https://localhost:8080/",
          "height": 35
        }
      },
      "cell_type": "code",
      "source": [
        "# 다른 인스턴스의 속성에는 다른 값이 들어있음\n",
        "p2.height"
      ],
      "execution_count": 0,
      "outputs": [
        {
          "output_type": "execute_result",
          "data": {
            "text/plain": [
              "60"
            ]
          },
          "metadata": {
            "tags": []
          },
          "execution_count": 28
        }
      ]
    },
    {
      "metadata": {
        "id": "s_W6RN0i8lwx",
        "colab_type": "code",
        "outputId": "d8fef2b7-e5bf-4cae-a787-8f3c00d8254a",
        "colab": {
          "base_uri": "https://localhost:8080/",
          "height": 35
        }
      },
      "cell_type": "code",
      "source": [
        "# 속성 바꾸기\n",
        "p1.height = 50\n",
        "print(p1.content())    # 부피를 계산함"
      ],
      "execution_count": 0,
      "outputs": [
        {
          "output_type": "stream",
          "text": [
            "15000\n"
          ],
          "name": "stdout"
        }
      ]
    },
    {
      "metadata": {
        "id": "rDG1-p1x8lwz",
        "colab_type": "code",
        "outputId": "383ab45d-b958-43b9-a1cb-3bdbe3c6a811",
        "colab": {
          "base_uri": "https://localhost:8080/",
          "height": 557
        }
      },
      "cell_type": "code",
      "source": [
        "dir(p1)"
      ],
      "execution_count": 0,
      "outputs": [
        {
          "output_type": "execute_result",
          "data": {
            "text/plain": [
              "['__class__',\n",
              " '__delattr__',\n",
              " '__dict__',\n",
              " '__dir__',\n",
              " '__doc__',\n",
              " '__eq__',\n",
              " '__format__',\n",
              " '__ge__',\n",
              " '__getattribute__',\n",
              " '__gt__',\n",
              " '__hash__',\n",
              " '__init__',\n",
              " '__init_subclass__',\n",
              " '__le__',\n",
              " '__lt__',\n",
              " '__module__',\n",
              " '__ne__',\n",
              " '__new__',\n",
              " '__reduce__',\n",
              " '__reduce_ex__',\n",
              " '__repr__',\n",
              " '__setattr__',\n",
              " '__sizeof__',\n",
              " '__str__',\n",
              " '__subclasshook__',\n",
              " '__weakref__',\n",
              " 'content',\n",
              " 'depth',\n",
              " 'height',\n",
              " 'width']"
            ]
          },
          "metadata": {
            "tags": []
          },
          "execution_count": 30
        }
      ]
    },
    {
      "metadata": {
        "id": "cmrckcGs8lw0",
        "colab_type": "text"
      },
      "cell_type": "markdown",
      "source": [
        "### 속성의 은폐"
      ]
    },
    {
      "metadata": {
        "id": "HvswtPmT8lw1",
        "colab_type": "code",
        "outputId": "716d28a7-e988-41c7-95ff-f1b8adb18d65",
        "colab": {
          "base_uri": "https://localhost:8080/",
          "height": 35
        }
      },
      "cell_type": "code",
      "source": [
        "# 다른 자료형을 대입해 본다\n",
        "p = Prism(10, 20, 30)\n",
        "p.width               # 가로폭을 표시"
      ],
      "execution_count": 0,
      "outputs": [
        {
          "output_type": "execute_result",
          "data": {
            "text/plain": [
              "10"
            ]
          },
          "metadata": {
            "tags": []
          },
          "execution_count": 31
        }
      ]
    },
    {
      "metadata": {
        "id": "um_Vz3Uj8lw3",
        "colab_type": "code",
        "outputId": "018ae2d9-a423-4d77-b7dd-d4193db1c334",
        "colab": {
          "base_uri": "https://localhost:8080/",
          "height": 55
        }
      },
      "cell_type": "code",
      "source": [
        "p.depth = \"30\"        # 속성으로 수치가 아니라 문자열을 대입\n",
        "p.content()           "
      ],
      "execution_count": 0,
      "outputs": [
        {
          "output_type": "execute_result",
          "data": {
            "text/plain": [
              "'3030303030303030303030303030303030303030303030303030303030303030303030303030303030303030303030303030303030303030303030303030303030303030303030303030303030303030303030303030303030303030303030303030303030303030303030303030303030303030303030303030303030303030303030303030303030303030303030303030303030303030303030303030303030303030303030303030303030303030303030303030303030303030303030303030303030303030'"
            ]
          },
          "metadata": {
            "tags": []
          },
          "execution_count": 32
        }
      ]
    },
    {
      "metadata": {
        "id": "zrTsJ8gZ8lw4",
        "colab_type": "code",
        "outputId": "524b1f2a-6146-4117-ffe2-80d206bc60eb",
        "colab": {
          "base_uri": "https://localhost:8080/",
          "height": 35
        }
      },
      "cell_type": "code",
      "source": [
        "print(5*'A')#,print(5*A)"
      ],
      "execution_count": 0,
      "outputs": [
        {
          "output_type": "stream",
          "text": [
            "AAAAA\n"
          ],
          "name": "stdout"
        }
      ]
    },
    {
      "metadata": {
        "id": "eSIAilj88lw6",
        "colab_type": "code",
        "outputId": "90edffc6-94a8-47e3-95b0-54c12c00fc9a",
        "colab": {
          "base_uri": "https://localhost:8080/",
          "height": 55
        }
      },
      "cell_type": "code",
      "source": [
        "p.depth = \"A\"        # 속성으로 수치가 아니라 문자열을 대입\n",
        "p.content()     "
      ],
      "execution_count": 0,
      "outputs": [
        {
          "output_type": "execute_result",
          "data": {
            "text/plain": [
              "'AAAAAAAAAAAAAAAAAAAAAAAAAAAAAAAAAAAAAAAAAAAAAAAAAAAAAAAAAAAAAAAAAAAAAAAAAAAAAAAAAAAAAAAAAAAAAAAAAAAAAAAAAAAAAAAAAAAAAAAAAAAAAAAAAAAAAAAAAAAAAAAAAAAAAAAAAAAAAAAAAAAAAAAAAAAAAAAAAAAAAAAAAAAAAAAAAAAAAAAA'"
            ]
          },
          "metadata": {
            "tags": []
          },
          "execution_count": 35
        }
      ]
    },
    {
      "metadata": {
        "id": "MxV_o8zH8lw8",
        "colab_type": "code",
        "colab": {}
      },
      "cell_type": "code",
      "source": [
        "# \"__\"으로 속성을 은폐한 Prism 클래스를 정의 (width -> _width, or __width)\n",
        "class PrismC:\n",
        "    def __init__(self, width, height, depth):\n",
        "        # 초기화 메쏘드를 정의\n",
        "        self.__width = width    # 인수를 속성에 할당\n",
        "        self.__height = height\n",
        "        self.__depth = depth\n",
        "\n",
        "    def content(self):\n",
        "        # 부피를 계산함\n",
        "        return self.__width*self.__height*self.__depth"
      ],
      "execution_count": 0,
      "outputs": []
    },
    {
      "metadata": {
        "id": "kTYpcBSk8lw8",
        "colab_type": "code",
        "outputId": "db27dce9-a837-4a34-8fe3-2899228438b0",
        "colab": {
          "base_uri": "https://localhost:8080/",
          "height": 35
        }
      },
      "cell_type": "code",
      "source": [
        "p4 = PrismC(10, 20, 30)\n",
        "print(p4.content())"
      ],
      "execution_count": 0,
      "outputs": [
        {
          "output_type": "stream",
          "text": [
            "6000\n"
          ],
          "name": "stdout"
        }
      ]
    },
    {
      "metadata": {
        "id": "eWXZw7bD8lw_",
        "colab_type": "code",
        "outputId": "a56f190f-e817-4ff7-f11d-ccf0c29f984e",
        "colab": {
          "base_uri": "https://localhost:8080/",
          "height": 35
        }
      },
      "cell_type": "code",
      "source": [
        "p4.__width = 200    # 속성을 외부에서 다시 대입\n",
        "p4.content()        # 결과는 변하지 않는다 --> 무엇을 의미하는가?"
      ],
      "execution_count": 0,
      "outputs": [
        {
          "output_type": "execute_result",
          "data": {
            "text/plain": [
              "6000"
            ]
          },
          "metadata": {
            "tags": []
          },
          "execution_count": 39
        }
      ]
    },
    {
      "metadata": {
        "id": "gjn8LSl68lw_",
        "colab_type": "code",
        "outputId": "af226a23-1c3f-4b6b-bcc6-d89bfda1c75f",
        "colab": {
          "base_uri": "https://localhost:8080/",
          "height": 35
        }
      },
      "cell_type": "code",
      "source": [
        "# 그러나 이름을 바꾸는 규칙을 알고 있다면 변경된다\n",
        "p4._PrismC__width = 300\n",
        "# p4._PrismC__depth = 500\n",
        "p4.content()"
      ],
      "execution_count": 0,
      "outputs": [
        {
          "output_type": "execute_result",
          "data": {
            "text/plain": [
              "180000"
            ]
          },
          "metadata": {
            "tags": []
          },
          "execution_count": 40
        }
      ]
    },
    {
      "metadata": {
        "id": "GwaMLuSX8lxB",
        "colab_type": "code",
        "outputId": "26fd7d45-81ec-40ba-ec30-84710d5bd309",
        "colab": {
          "base_uri": "https://localhost:8080/",
          "height": 172
        }
      },
      "cell_type": "code",
      "source": [
        "p4.__width, p4.__height, p4.__depth # ?????"
      ],
      "execution_count": 0,
      "outputs": [
        {
          "output_type": "error",
          "ename": "AttributeError",
          "evalue": "ignored",
          "traceback": [
            "\u001b[0;31m---------------------------------------------------------------------------\u001b[0m",
            "\u001b[0;31mAttributeError\u001b[0m                            Traceback (most recent call last)",
            "\u001b[0;32m<ipython-input-42-8674d7355dc4>\u001b[0m in \u001b[0;36m<module>\u001b[0;34m()\u001b[0m\n\u001b[0;32m----> 1\u001b[0;31m \u001b[0mp4\u001b[0m\u001b[0;34m.\u001b[0m\u001b[0m__width\u001b[0m\u001b[0;34m,\u001b[0m \u001b[0mp4\u001b[0m\u001b[0;34m.\u001b[0m\u001b[0m__height\u001b[0m\u001b[0;34m,\u001b[0m \u001b[0mp4\u001b[0m\u001b[0;34m.\u001b[0m\u001b[0m__depth\u001b[0m \u001b[0;31m# ?????\u001b[0m\u001b[0;34m\u001b[0m\u001b[0m\n\u001b[0m",
            "\u001b[0;31mAttributeError\u001b[0m: 'PrismC' object has no attribute '__height'"
          ]
        }
      ]
    },
    {
      "metadata": {
        "id": "_zwAuKCJ8lxC",
        "colab_type": "code",
        "outputId": "ea5614f0-50f3-4afc-cfaa-bab48afdd1cc",
        "colab": {
          "base_uri": "https://localhost:8080/",
          "height": 172
        }
      },
      "cell_type": "code",
      "source": [
        "p4.__height"
      ],
      "execution_count": 0,
      "outputs": [
        {
          "output_type": "error",
          "ename": "AttributeError",
          "evalue": "ignored",
          "traceback": [
            "\u001b[0;31m---------------------------------------------------------------------------\u001b[0m",
            "\u001b[0;31mAttributeError\u001b[0m                            Traceback (most recent call last)",
            "\u001b[0;32m<ipython-input-43-da5e51a9dd6b>\u001b[0m in \u001b[0;36m<module>\u001b[0;34m()\u001b[0m\n\u001b[0;32m----> 1\u001b[0;31m \u001b[0mp4\u001b[0m\u001b[0;34m.\u001b[0m\u001b[0m__height\u001b[0m\u001b[0;34m\u001b[0m\u001b[0m\n\u001b[0m",
            "\u001b[0;31mAttributeError\u001b[0m: 'PrismC' object has no attribute '__height'"
          ]
        }
      ]
    },
    {
      "metadata": {
        "id": "4B3maIv_8lxF",
        "colab_type": "code",
        "colab": {}
      },
      "cell_type": "code",
      "source": [
        "p4._height=1"
      ],
      "execution_count": 0,
      "outputs": []
    },
    {
      "metadata": {
        "id": "MmUjBMcc8lxH",
        "colab_type": "code",
        "outputId": "1668b557-a49d-4a73-b3da-aabfebafbd87",
        "colab": {
          "base_uri": "https://localhost:8080/",
          "height": 35
        }
      },
      "cell_type": "code",
      "source": [
        "p4._height"
      ],
      "execution_count": 0,
      "outputs": [
        {
          "output_type": "execute_result",
          "data": {
            "text/plain": [
              "1"
            ]
          },
          "metadata": {
            "tags": []
          },
          "execution_count": 45
        }
      ]
    },
    {
      "metadata": {
        "id": "bzO4AWyB8lxI",
        "colab_type": "code",
        "outputId": "ebf37927-304a-4857-ea9a-6bf25b3a1a9e",
        "colab": {
          "base_uri": "https://localhost:8080/",
          "height": 593
        }
      },
      "cell_type": "code",
      "source": [
        "dir(p4)"
      ],
      "execution_count": 0,
      "outputs": [
        {
          "output_type": "execute_result",
          "data": {
            "text/plain": [
              "['_PrismC__depth',\n",
              " '_PrismC__height',\n",
              " '_PrismC__width',\n",
              " '__class__',\n",
              " '__delattr__',\n",
              " '__dict__',\n",
              " '__dir__',\n",
              " '__doc__',\n",
              " '__eq__',\n",
              " '__format__',\n",
              " '__ge__',\n",
              " '__getattribute__',\n",
              " '__gt__',\n",
              " '__hash__',\n",
              " '__init__',\n",
              " '__init_subclass__',\n",
              " '__le__',\n",
              " '__lt__',\n",
              " '__module__',\n",
              " '__ne__',\n",
              " '__new__',\n",
              " '__reduce__',\n",
              " '__reduce_ex__',\n",
              " '__repr__',\n",
              " '__setattr__',\n",
              " '__sizeof__',\n",
              " '__str__',\n",
              " '__subclasshook__',\n",
              " '__weakref__',\n",
              " '__width',\n",
              " '_height',\n",
              " 'content']"
            ]
          },
          "metadata": {
            "tags": []
          },
          "execution_count": 46
        }
      ]
    },
    {
      "metadata": {
        "id": "lBCbDwJI8lxK",
        "colab_type": "text"
      },
      "cell_type": "markdown",
      "source": [
        "### 다음 변수들의 차이점을 이해!\n",
        "\n",
        "<pre> _PrismC__depth,  _PrismC__height, _PrismC__width   vs.   __width, _height </pre>\n",
        "\n",
        "> <pre> _PrismC__depth,  _PrismC__height, _PrismC__width 는 class 에 은닉된 변수,\n",
        "         __width, _height 는 클래스의 인스턴스에 추가된 변수</pre>"
      ]
    },
    {
      "metadata": {
        "id": "d6IkMwq18lxK",
        "colab_type": "text"
      },
      "cell_type": "markdown",
      "source": [
        "***"
      ]
    },
    {
      "metadata": {
        "id": "hFWAE3YM8lxL",
        "colab_type": "text"
      },
      "cell_type": "markdown",
      "source": [
        "# Chapter07-01\n",
        "## 클래스 상속과 고급 객체 지향 기능"
      ]
    },
    {
      "metadata": {
        "id": "MZFuSasL8lxL",
        "colab_type": "text"
      },
      "cell_type": "markdown",
      "source": [
        "## 클래스를 상속한다"
      ]
    },
    {
      "metadata": {
        "id": "4PnBxLcT8lxM",
        "colab_type": "code",
        "colab": {}
      },
      "cell_type": "code",
      "source": [
        "# Prism 클래스를 다시 정의\n",
        "class Prism:\n",
        "    def __init__(self, width, height, depth):\n",
        "        # 초기화 메쏘드를 정의\n",
        "        self.width = width    # 인수를 속성에 할당\n",
        "        self.height = height\n",
        "        self.depth = depth\n",
        "\n",
        "    def content(self):\n",
        "        # 부피를 계산\n",
        "        return self.width*self.height*self.depth"
      ],
      "execution_count": 0,
      "outputs": []
    },
    {
      "metadata": {
        "id": "UhmXedmx8lxN",
        "colab_type": "code",
        "colab": {}
      },
      "cell_type": "code",
      "source": [
        "# Cube 클래스의 정의\n",
        "# 슈퍼클래스 Prism을 상속한 Cube 클래스를 정의\n",
        "class Cube(Prism):    # Prism 클래스를 상속함\n",
        "    def __init__(self, length):    # __init__() 메쏘드를 오버라이드\n",
        "        # 초기화 메쏘드를 오버라이드(override)\n",
        "        self.width = self.height = self.depth = length    # 속성을 length로 초기화"
      ],
      "execution_count": 0,
      "outputs": []
    },
    {
      "metadata": {
        "id": "NxX5_h2T8lxO",
        "colab_type": "code",
        "outputId": "1623d25c-e285-407c-f0eb-3c8430cb775f",
        "colab": {
          "base_uri": "https://localhost:8080/",
          "height": 35
        }
      },
      "cell_type": "code",
      "source": [
        "# Cube 클래스를 사용한다\n",
        "c = Cube(20)     # length로 ‘20’을 넘김\n",
        "c.content()      # Prism 클래스의 메쏘드를 호출함"
      ],
      "execution_count": 0,
      "outputs": [
        {
          "output_type": "execute_result",
          "data": {
            "text/plain": [
              "8000"
            ]
          },
          "metadata": {
            "tags": []
          },
          "execution_count": 49
        }
      ]
    },
    {
      "metadata": {
        "id": "zFZaijXw8lxQ",
        "colab_type": "text"
      },
      "cell_type": "markdown",
      "source": [
        "### 초기화 메쏘드의 오버라이드(override, 재정의)"
      ]
    },
    {
      "metadata": {
        "id": "fWkb3h6A8lxR",
        "colab_type": "code",
        "colab": {}
      },
      "cell_type": "code",
      "source": [
        "# Prism 클래스의 새로운 정의\n",
        "# 초기화 메소드에 인수(단위)를 추가하여 Prism 클래스를 재정의\n",
        "class Prism:\n",
        "    def __init__(self, width, height, depth, unit=\"cm\"):    # 인수를 추가\n",
        "        self.width = width\n",
        "        self.height = height\n",
        "        self.depth = depth\n",
        "        self.unit = unit             # 속성을 추가\n",
        "        print(\"Unit: \", unit)\n",
        "\n",
        "    def content(self):\n",
        "        # 부피 계산\n",
        "        return self.width*self.height*self.depth        \n",
        "\n",
        "    def unit_content(self):         # 메쏘드를 추가\n",
        "        # 체적을 구하고, 단위를 연결하여 문자열을 반환\n",
        "        return str(self.content())+ \" \" +3*self.unit  # 계산 결과에 단위를 더함          "
      ],
      "execution_count": 0,
      "outputs": []
    },
    {
      "metadata": {
        "id": "dHlhqqoo8lxT",
        "colab_type": "code",
        "outputId": "eddda160-ac24-4310-ad88-58fa42dc20e1",
        "colab": {
          "base_uri": "https://localhost:8080/",
          "height": 53
        }
      },
      "cell_type": "code",
      "source": [
        "Prism(10,20,30)"
      ],
      "execution_count": 0,
      "outputs": [
        {
          "output_type": "stream",
          "text": [
            "Unit:  cm\n"
          ],
          "name": "stdout"
        },
        {
          "output_type": "execute_result",
          "data": {
            "text/plain": [
              "<__main__.Prism at 0x7f872f885ba8>"
            ]
          },
          "metadata": {
            "tags": []
          },
          "execution_count": 51
        }
      ]
    },
    {
      "metadata": {
        "id": "FLOWulca8lxV",
        "colab_type": "code",
        "outputId": "1b37b65f-7c13-4ea0-af0e-10e787c18fa3",
        "colab": {
          "base_uri": "https://localhost:8080/",
          "height": 53
        }
      },
      "cell_type": "code",
      "source": [
        "Prism(10,20,30).content()"
      ],
      "execution_count": 0,
      "outputs": [
        {
          "output_type": "stream",
          "text": [
            "Unit:  cm\n"
          ],
          "name": "stdout"
        },
        {
          "output_type": "execute_result",
          "data": {
            "text/plain": [
              "6000"
            ]
          },
          "metadata": {
            "tags": []
          },
          "execution_count": 52
        }
      ]
    },
    {
      "metadata": {
        "id": "UhgYsnLZ8lxW",
        "colab_type": "code",
        "outputId": "d9d786a5-54b6-4a21-e131-c89160b75a22",
        "colab": {
          "base_uri": "https://localhost:8080/",
          "height": 53
        }
      },
      "cell_type": "code",
      "source": [
        "Prism(10,20,30).unit_content()"
      ],
      "execution_count": 0,
      "outputs": [
        {
          "output_type": "stream",
          "text": [
            "Unit:  cm\n"
          ],
          "name": "stdout"
        },
        {
          "output_type": "execute_result",
          "data": {
            "text/plain": [
              "'6000 cmcmcm'"
            ]
          },
          "metadata": {
            "tags": []
          },
          "execution_count": 53
        }
      ]
    },
    {
      "metadata": {
        "id": "GRd_YsDO8lxX",
        "colab_type": "code",
        "colab": {}
      },
      "cell_type": "code",
      "source": [
        "# Prism을 상속한 Cube 클래스를 정의하고 초기화 메소드 __init__() 를 재정의\n",
        "class Cube(Prism):\n",
        "    def __init__(self, length):\n",
        "        # 초기화 메쏘드를 오버라이드(override)\n",
        "        self.width = self.height = self.depth = length"
      ],
      "execution_count": 0,
      "outputs": []
    },
    {
      "metadata": {
        "id": "rTt4fUT18lxa",
        "colab_type": "code",
        "outputId": "f89c9444-3f0a-4778-88f6-1cf91ee104ac",
        "colab": {
          "base_uri": "https://localhost:8080/",
          "height": 35
        }
      },
      "cell_type": "code",
      "source": [
        "Cube(10)"
      ],
      "execution_count": 0,
      "outputs": [
        {
          "output_type": "execute_result",
          "data": {
            "text/plain": [
              "<__main__.Cube at 0x7f872f8d4940>"
            ]
          },
          "metadata": {
            "tags": []
          },
          "execution_count": 55
        }
      ]
    },
    {
      "metadata": {
        "scrolled": true,
        "id": "M3whFZ9M8lxc",
        "colab_type": "code",
        "outputId": "819fdece-8f59-44c4-e5cd-5f419b28484f",
        "colab": {
          "base_uri": "https://localhost:8080/",
          "height": 35
        }
      },
      "cell_type": "code",
      "source": [
        "# 추가한 속성을 호출한다\n",
        "# Prism 클래스를 상속한 Cube 클래스에 추가한 메쏘드를 호출\n",
        "c = Cube(10)\n",
        "c"
      ],
      "execution_count": 0,
      "outputs": [
        {
          "output_type": "execute_result",
          "data": {
            "text/plain": [
              "<__main__.Cube at 0x7f872f8daf60>"
            ]
          },
          "metadata": {
            "tags": []
          },
          "execution_count": 56
        }
      ]
    },
    {
      "metadata": {
        "id": "C9b8YjV78lxc",
        "colab_type": "code",
        "outputId": "4fc3acb9-793a-4d25-db61-069336547c75",
        "colab": {
          "base_uri": "https://localhost:8080/",
          "height": 35
        }
      },
      "cell_type": "code",
      "source": [
        "c.content()"
      ],
      "execution_count": 0,
      "outputs": [
        {
          "output_type": "execute_result",
          "data": {
            "text/plain": [
              "1000"
            ]
          },
          "metadata": {
            "tags": []
          },
          "execution_count": 57
        }
      ]
    },
    {
      "metadata": {
        "scrolled": true,
        "id": "Zt1vBDbS8lxe",
        "colab_type": "code",
        "outputId": "cf701ff7-a004-4892-f64b-d90adacd33f9",
        "colab": {
          "base_uri": "https://localhost:8080/",
          "height": 262
        }
      },
      "cell_type": "code",
      "source": [
        "c.unit_content()"
      ],
      "execution_count": 0,
      "outputs": [
        {
          "output_type": "error",
          "ename": "AttributeError",
          "evalue": "ignored",
          "traceback": [
            "\u001b[0;31m---------------------------------------------------------------------------\u001b[0m",
            "\u001b[0;31mAttributeError\u001b[0m                            Traceback (most recent call last)",
            "\u001b[0;32m<ipython-input-58-d476ca5a2737>\u001b[0m in \u001b[0;36m<module>\u001b[0;34m()\u001b[0m\n\u001b[0;32m----> 1\u001b[0;31m \u001b[0mc\u001b[0m\u001b[0;34m.\u001b[0m\u001b[0munit_content\u001b[0m\u001b[0;34m(\u001b[0m\u001b[0;34m)\u001b[0m\u001b[0;34m\u001b[0m\u001b[0m\n\u001b[0m",
            "\u001b[0;32m<ipython-input-50-0cd9fb9f630b>\u001b[0m in \u001b[0;36munit_content\u001b[0;34m(self)\u001b[0m\n\u001b[1;32m     13\u001b[0m     \u001b[0;32mdef\u001b[0m \u001b[0munit_content\u001b[0m\u001b[0;34m(\u001b[0m\u001b[0mself\u001b[0m\u001b[0;34m)\u001b[0m\u001b[0;34m:\u001b[0m         \u001b[0;31m# 메쏘드를 추가\u001b[0m\u001b[0;34m\u001b[0m\u001b[0m\n\u001b[1;32m     14\u001b[0m         \u001b[0;31m# 체적을 구하고, 단위를 연결하여 문자열을 반환\u001b[0m\u001b[0;34m\u001b[0m\u001b[0;34m\u001b[0m\u001b[0m\n\u001b[0;32m---> 15\u001b[0;31m         \u001b[0;32mreturn\u001b[0m \u001b[0mstr\u001b[0m\u001b[0;34m(\u001b[0m\u001b[0mself\u001b[0m\u001b[0;34m.\u001b[0m\u001b[0mcontent\u001b[0m\u001b[0;34m(\u001b[0m\u001b[0;34m)\u001b[0m\u001b[0;34m)\u001b[0m\u001b[0;34m+\u001b[0m \u001b[0;34m\" \"\u001b[0m \u001b[0;34m+\u001b[0m\u001b[0;36m3\u001b[0m\u001b[0;34m*\u001b[0m\u001b[0mself\u001b[0m\u001b[0;34m.\u001b[0m\u001b[0munit\u001b[0m  \u001b[0;31m# 계산 결과에 단위를 더함\u001b[0m\u001b[0;34m\u001b[0m\u001b[0m\n\u001b[0m",
            "\u001b[0;31mAttributeError\u001b[0m: 'Cube' object has no attribute 'unit'"
          ]
        }
      ]
    },
    {
      "metadata": {
        "id": "QtX2LnWF8lxf",
        "colab_type": "text"
      },
      "cell_type": "markdown",
      "source": [
        "### Solution to the above error"
      ]
    },
    {
      "metadata": {
        "id": "tHxgdDMK8lxg",
        "colab_type": "text"
      },
      "cell_type": "markdown",
      "source": [
        "### super( )를 사용한 슈퍼클래스의 취득"
      ]
    },
    {
      "metadata": {
        "id": "C5FibfqP8lxi",
        "colab_type": "code",
        "colab": {}
      },
      "cell_type": "code",
      "source": [
        "# Cube 클래스에서 super()함수를 사용한다.\n",
        "# super()를 사용하여 Cube 클래스를 재정의\n",
        "class Cube(Prism):\n",
        "    def __init__(self, length):\n",
        "        super().__init__(length, length, length) # Cube는 세 모서리 길이가 동일. unit는 default로 지정됨.\n",
        "# super() 부모클래스를 가리킬때 사용"
      ],
      "execution_count": 0,
      "outputs": []
    },
    {
      "metadata": {
        "id": "owsD5bOn8lxl",
        "colab_type": "code",
        "outputId": "7567fbc8-cd35-4a3e-bcc2-5d12ab68b32e",
        "colab": {
          "base_uri": "https://localhost:8080/",
          "height": 53
        }
      },
      "cell_type": "code",
      "source": [
        "# 추가한 속성을 호출한다\n",
        "c2 = Cube(20)\n",
        "c2.unit_content()"
      ],
      "execution_count": 0,
      "outputs": [
        {
          "output_type": "stream",
          "text": [
            "Unit:  cm\n"
          ],
          "name": "stdout"
        },
        {
          "output_type": "execute_result",
          "data": {
            "text/plain": [
              "'8000 cmcmcm'"
            ]
          },
          "metadata": {
            "tags": []
          },
          "execution_count": 60
        }
      ]
    },
    {
      "metadata": {
        "id": "KyaEL0q_8lxm",
        "colab_type": "text"
      },
      "cell_type": "markdown",
      "source": [
        "***"
      ]
    },
    {
      "metadata": {
        "id": "uYlZEBq28lxn",
        "colab_type": "text"
      },
      "cell_type": "markdown",
      "source": [
        "### 슬롯(Slot)"
      ]
    },
    {
      "metadata": {
        "id": "z49yQ_Jv8lxn",
        "colab_type": "code",
        "outputId": "1c176bf6-f290-4119-c2a4-a3efdc16e4bc",
        "colab": {
          "base_uri": "https://localhost:8080/",
          "height": 35
        }
      },
      "cell_type": "code",
      "source": [
        "# 슬롯에 의한 속성 제한\n",
        "# 슬롯을 가지는 클래스를 정의한다\n",
        "class Klass:                # 클래스를 정의\n",
        "    __slots__ = ['a', 'b']  # 속성을 제한\n",
        "    def __init__(self):\n",
        "        self.a = 1          # a라는 속성을 작성\n",
        "\n",
        "i = Klass()      # 인스턴스를 만듦\n",
        "i.a              # a라는 속성을 확인"
      ],
      "execution_count": 0,
      "outputs": [
        {
          "output_type": "execute_result",
          "data": {
            "text/plain": [
              "1"
            ]
          },
          "metadata": {
            "tags": []
          },
          "execution_count": 61
        }
      ]
    },
    {
      "metadata": {
        "id": "yCgim1p78lxp",
        "colab_type": "code",
        "outputId": "92a26034-cd91-4404-8c8b-6356978082e9",
        "colab": {
          "base_uri": "https://localhost:8080/",
          "height": 35
        }
      },
      "cell_type": "code",
      "source": [
        "i.b = 2          # b라는 속성을 추가\n",
        "i.b              # b라는 속성을 확인"
      ],
      "execution_count": 0,
      "outputs": [
        {
          "output_type": "execute_result",
          "data": {
            "text/plain": [
              "2"
            ]
          },
          "metadata": {
            "tags": []
          },
          "execution_count": 62
        }
      ]
    },
    {
      "metadata": {
        "id": "O4N4bNMf8lxr",
        "colab_type": "code",
        "outputId": "ceb0a0ca-69ff-4381-dd2f-161dfca9f68a",
        "colab": {
          "base_uri": "https://localhost:8080/",
          "height": 172
        }
      },
      "cell_type": "code",
      "source": [
        "i.c = 3          # c라는 속성은 추가할 수 없음"
      ],
      "execution_count": 0,
      "outputs": [
        {
          "output_type": "error",
          "ename": "AttributeError",
          "evalue": "ignored",
          "traceback": [
            "\u001b[0;31m---------------------------------------------------------------------------\u001b[0m",
            "\u001b[0;31mAttributeError\u001b[0m                            Traceback (most recent call last)",
            "\u001b[0;32m<ipython-input-63-c11014e15c8d>\u001b[0m in \u001b[0;36m<module>\u001b[0;34m()\u001b[0m\n\u001b[0;32m----> 1\u001b[0;31m \u001b[0mi\u001b[0m\u001b[0;34m.\u001b[0m\u001b[0mc\u001b[0m \u001b[0;34m=\u001b[0m \u001b[0;36m3\u001b[0m          \u001b[0;31m# c라는 속성은 추가할 수 없음\u001b[0m\u001b[0;34m\u001b[0m\u001b[0m\n\u001b[0m",
            "\u001b[0;31mAttributeError\u001b[0m: 'Klass' object has no attribute 'c'"
          ]
        }
      ]
    },
    {
      "metadata": {
        "id": "kcz1kSij8lxs",
        "colab_type": "code",
        "outputId": "e76ccb43-a687-41ff-fe72-d55bb129fa19",
        "colab": {
          "base_uri": "https://localhost:8080/",
          "height": 503
        }
      },
      "cell_type": "code",
      "source": [
        "dir(i)"
      ],
      "execution_count": 0,
      "outputs": [
        {
          "output_type": "execute_result",
          "data": {
            "text/plain": [
              "['__class__',\n",
              " '__delattr__',\n",
              " '__dir__',\n",
              " '__doc__',\n",
              " '__eq__',\n",
              " '__format__',\n",
              " '__ge__',\n",
              " '__getattribute__',\n",
              " '__gt__',\n",
              " '__hash__',\n",
              " '__init__',\n",
              " '__init_subclass__',\n",
              " '__le__',\n",
              " '__lt__',\n",
              " '__module__',\n",
              " '__ne__',\n",
              " '__new__',\n",
              " '__reduce__',\n",
              " '__reduce_ex__',\n",
              " '__repr__',\n",
              " '__setattr__',\n",
              " '__sizeof__',\n",
              " '__slots__',\n",
              " '__str__',\n",
              " '__subclasshook__',\n",
              " 'a',\n",
              " 'b']"
            ]
          },
          "metadata": {
            "tags": []
          },
          "execution_count": 64
        }
      ]
    },
    {
      "metadata": {
        "id": "plliGQGA8lxu",
        "colab_type": "text"
      },
      "cell_type": "markdown",
      "source": [
        "### 프로퍼티(property) = 변수"
      ]
    },
    {
      "metadata": {
        "id": "c19fxPwQ8lxv",
        "colab_type": "code",
        "colab": {}
      },
      "cell_type": "code",
      "source": [
        "# 프로퍼티의 정의\n",
        "# 프로퍼티를 정의하는 클래스를 정의한다\n",
        "class Prop:\n",
        "    def __init__(self):\n",
        "        self.__x = 0    # 속성을 만듦\n",
        "\n",
        "    def getx(self):     # 게터\n",
        "        return self.__x # 속성을 돌려줌\n",
        "\n",
        "    def setx(self, x):  # 세터\n",
        "        self.__x = x    # 속성으로 값을 넣음\n",
        "    \n",
        "    x = property(getx, setx) # 프로퍼티를 설정함\n",
        "    "
      ],
      "execution_count": 0,
      "outputs": []
    },
    {
      "metadata": {
        "id": "hmj8L36v8lxw",
        "colab_type": "code",
        "outputId": "6865ecea-efbf-4039-98a2-bf0faa83107f",
        "colab": {
          "base_uri": "https://localhost:8080/",
          "height": 35
        }
      },
      "cell_type": "code",
      "source": [
        "# 프로퍼티를 사용한다 - 지정하거나 가져오거나할 때 사용\n",
        "i = Prop()     # 인스턴스를 만듦\n",
        "i.x            # 속성을 참조"
      ],
      "execution_count": 0,
      "outputs": [
        {
          "output_type": "execute_result",
          "data": {
            "text/plain": [
              "0"
            ]
          },
          "metadata": {
            "tags": []
          },
          "execution_count": 68
        }
      ]
    },
    {
      "metadata": {
        "id": "UJfxSapX8lxx",
        "colab_type": "code",
        "outputId": "6ecf9375-f489-4d11-bc30-b24e6e722907",
        "colab": {
          "base_uri": "https://localhost:8080/",
          "height": 35
        }
      },
      "cell_type": "code",
      "source": [
        "i.x = 10       # x에 대입\n",
        "i.x            # 속성 x를 참조"
      ],
      "execution_count": 0,
      "outputs": [
        {
          "output_type": "execute_result",
          "data": {
            "text/plain": [
              "10"
            ]
          },
          "metadata": {
            "tags": []
          },
          "execution_count": 69
        }
      ]
    },
    {
      "metadata": {
        "id": "mXMJX9zv8lxy",
        "colab_type": "code",
        "outputId": "703d8cc7-ad60-488b-c0ca-b5237f96e373",
        "colab": {
          "base_uri": "https://localhost:8080/",
          "height": 35
        }
      },
      "cell_type": "code",
      "source": [
        "i._Prop__x     # __x에 억지로 접근"
      ],
      "execution_count": 0,
      "outputs": [
        {
          "output_type": "execute_result",
          "data": {
            "text/plain": [
              "10"
            ]
          },
          "metadata": {
            "tags": []
          },
          "execution_count": 70
        }
      ]
    },
    {
      "metadata": {
        "id": "ALA-wZSt8lxz",
        "colab_type": "code",
        "outputId": "7e95805a-50f9-4775-d59e-b050272372bb",
        "colab": {
          "base_uri": "https://localhost:8080/",
          "height": 557
        }
      },
      "cell_type": "code",
      "source": [
        " dir(i)"
      ],
      "execution_count": 0,
      "outputs": [
        {
          "output_type": "execute_result",
          "data": {
            "text/plain": [
              "['_Prop__x',\n",
              " '__class__',\n",
              " '__delattr__',\n",
              " '__dict__',\n",
              " '__dir__',\n",
              " '__doc__',\n",
              " '__eq__',\n",
              " '__format__',\n",
              " '__ge__',\n",
              " '__getattribute__',\n",
              " '__gt__',\n",
              " '__hash__',\n",
              " '__init__',\n",
              " '__init_subclass__',\n",
              " '__le__',\n",
              " '__lt__',\n",
              " '__module__',\n",
              " '__ne__',\n",
              " '__new__',\n",
              " '__reduce__',\n",
              " '__reduce_ex__',\n",
              " '__repr__',\n",
              " '__setattr__',\n",
              " '__sizeof__',\n",
              " '__str__',\n",
              " '__subclasshook__',\n",
              " '__weakref__',\n",
              " 'getx',\n",
              " 'setx',\n",
              " 'x']"
            ]
          },
          "metadata": {
            "tags": []
          },
          "execution_count": 71
        }
      ]
    },
    {
      "metadata": {
        "id": "_ajFteYA8lx0",
        "colab_type": "code",
        "outputId": "e4ceac29-0e44-4aab-f7dc-e5ebee40a03e",
        "colab": {
          "base_uri": "https://localhost:8080/",
          "height": 35
        }
      },
      "cell_type": "code",
      "source": [
        "i.getx()"
      ],
      "execution_count": 0,
      "outputs": [
        {
          "output_type": "execute_result",
          "data": {
            "text/plain": [
              "10"
            ]
          },
          "metadata": {
            "tags": []
          },
          "execution_count": 72
        }
      ]
    },
    {
      "metadata": {
        "id": "c3woWYF28lx2",
        "colab_type": "code",
        "outputId": "20cd7319-4dbb-4ba2-dca0-7261b2cb2851",
        "colab": {
          "base_uri": "https://localhost:8080/",
          "height": 35
        }
      },
      "cell_type": "code",
      "source": [
        "i.setx(100)\n",
        "i.x"
      ],
      "execution_count": 0,
      "outputs": [
        {
          "output_type": "execute_result",
          "data": {
            "text/plain": [
              "100"
            ]
          },
          "metadata": {
            "tags": []
          },
          "execution_count": 73
        }
      ]
    },
    {
      "metadata": {
        "id": "U6mAothf8lx3",
        "colab_type": "text"
      },
      "cell_type": "markdown",
      "source": [
        "### 더미 데코레이터를 사용하면 보다 간편하게 속성을 정의 할 수 있다"
      ]
    },
    {
      "metadata": {
        "id": "kCLWV0eY8lx3",
        "colab_type": "code",
        "colab": {}
      },
      "cell_type": "code",
      "source": [
        "# 데코레이터를 사용하여 프로퍼티를 정의하는 클래스를 정의\n",
        "\n",
        "class DecoProp:\n",
        "    def __init__(self):\n",
        "        self.__x = 0\n",
        "\n",
        "    @property\n",
        "    def x(self):\n",
        "        # x = property(x.getter(x), x.setter(x)) \n",
        "        return None\n",
        "    \n",
        "    # getter 정의 - 값을 가져오는 것\n",
        "    @x.getter\n",
        "    def x(self):\n",
        "        print('this is getter, value is', self.__x)\n",
        "        return(self.__x)\n",
        "\n",
        "    # setter 정의 - 값을 지정하는 것\n",
        "    @x.setter\n",
        "    def x(self, value):\n",
        "        print('this is setter, value is', value)\n",
        "        self.__x = value\n"
      ],
      "execution_count": 0,
      "outputs": []
    },
    {
      "metadata": {
        "id": "UJ2MVaOH8lx4",
        "colab_type": "code",
        "outputId": "10ad4993-8efc-483a-ad5c-0e20cd89c6ea",
        "colab": {
          "base_uri": "https://localhost:8080/",
          "height": 53
        }
      },
      "cell_type": "code",
      "source": [
        "dp = DecoProp()   # 데코레이터를 사용한 속성을 가진 인스턴스를 생성\n",
        "dp.x             # __init __ ()에 정의된 초기값을 표시, getter가 호출됨"
      ],
      "execution_count": 0,
      "outputs": [
        {
          "output_type": "stream",
          "text": [
            "this is getter, value is 0\n"
          ],
          "name": "stdout"
        },
        {
          "output_type": "execute_result",
          "data": {
            "text/plain": [
              "0"
            ]
          },
          "metadata": {
            "tags": []
          },
          "execution_count": 75
        }
      ]
    },
    {
      "metadata": {
        "id": "uzwGMLgj8lx7",
        "colab_type": "code",
        "outputId": "9d3a4da8-e410-4880-f179-12a78661ed10",
        "colab": {
          "base_uri": "https://localhost:8080/",
          "height": 35
        }
      },
      "cell_type": "code",
      "source": [
        "dp.x = 1          # setter를 호출하여 값을 변경"
      ],
      "execution_count": 0,
      "outputs": [
        {
          "output_type": "stream",
          "text": [
            "this is setter, value is 1\n"
          ],
          "name": "stdout"
        }
      ]
    },
    {
      "metadata": {
        "id": "N8QOaH3d8lx8",
        "colab_type": "code",
        "outputId": "8c805777-ad7d-4042-a0af-6e000f8ab2ee",
        "colab": {
          "base_uri": "https://localhost:8080/",
          "height": 53
        }
      },
      "cell_type": "code",
      "source": [
        "dp.x              # 값이 변경되어 있는지 확인"
      ],
      "execution_count": 0,
      "outputs": [
        {
          "output_type": "stream",
          "text": [
            "this is getter, value is 1\n"
          ],
          "name": "stdout"
        },
        {
          "output_type": "execute_result",
          "data": {
            "text/plain": [
              "1"
            ]
          },
          "metadata": {
            "tags": []
          },
          "execution_count": 77
        }
      ]
    },
    {
      "metadata": {
        "id": "iFzxj3QE8lx9",
        "colab_type": "code",
        "colab": {}
      },
      "cell_type": "code",
      "source": [
        ""
      ],
      "execution_count": 0,
      "outputs": []
    },
    {
      "metadata": {
        "id": "gQ2bJJgn8lx-",
        "colab_type": "text"
      },
      "cell_type": "markdown",
      "source": [
        "# Chapter 07-03\n",
        "## 내장형을 상속하다"
      ]
    },
    {
      "metadata": {
        "id": "KUnhFPoR8lx-",
        "colab_type": "text"
      },
      "cell_type": "markdown",
      "source": [
        "## 딕셔너리형을 상속한다"
      ]
    },
    {
      "metadata": {
        "id": "s4_waCAI8lx-",
        "colab_type": "code",
        "colab": {}
      },
      "cell_type": "code",
      "source": [
        "class StrDict(dict):\n",
        "    \"\"\" 딕셔너리형을 상속해서 클래스를 만든다\n",
        "    \"\"\"\n",
        "    def __init__(self):\n",
        "        pass\n",
        "\n",
        "    def __setitem__(self, key, value):\n",
        "        \"\"\" 특수 메쏘드를 재정의(오버라이드)\n",
        "            key가 문자열이 아니면 예외를 발생\n",
        "        \"\"\"\n",
        "        if not isinstance(key, str):\n",
        "            # 키가 문자열이 아닌 경우에는 예외를 발생\n",
        "            raise ValueError(\"Key must be string.\")\n",
        "            # 슈퍼클래스의 특수 메쏘드를 호출해서 키와 값을 설정\n",
        "        dict.__setitem__(self, key, value)"
      ],
      "execution_count": 0,
      "outputs": []
    },
    {
      "metadata": {
        "id": "7OD6GhEK8lx_",
        "colab_type": "text"
      },
      "cell_type": "markdown",
      "source": [
        "> 딕셔너리형(dict)을 상속했으므로 딕셔너리의 모든 속성과 메소드가 사용 가능하다."
      ]
    },
    {
      "metadata": {
        "id": "9Z4bZb578lx_",
        "colab_type": "code",
        "outputId": "2641d671-7a31-42d4-9c89-f9543b117e51",
        "colab": {
          "base_uri": "https://localhost:8080/",
          "height": 35
        }
      },
      "cell_type": "code",
      "source": [
        "# 딕셔너리형을 상속한 클래스를 사용한다\n",
        "d = StrDict()   # 인스턴스를 작성\n",
        "d[\"spam\"] = 1   # 딕셔너리와 같이 키를 사용해서 요소를 추가\n",
        "d[\"spam\"]       # 추가된 요소 확인"
      ],
      "execution_count": 0,
      "outputs": [
        {
          "output_type": "execute_result",
          "data": {
            "text/plain": [
              "1"
            ]
          },
          "metadata": {
            "tags": []
          },
          "execution_count": 79
        }
      ]
    },
    {
      "metadata": {
        "id": "Gdvg3duS8lyA",
        "colab_type": "code",
        "outputId": "de4f4e76-8cbd-473c-dc67-b0a9e8ec7b77",
        "colab": {
          "base_uri": "https://localhost:8080/",
          "height": 298
        }
      },
      "cell_type": "code",
      "source": [
        "d[1] = 1        # 수치 키로 요소를 추가하면 오류"
      ],
      "execution_count": 0,
      "outputs": [
        {
          "output_type": "error",
          "ename": "ValueError",
          "evalue": "ignored",
          "traceback": [
            "\u001b[0;31m---------------------------------------------------------------------------\u001b[0m",
            "\u001b[0;31mValueError\u001b[0m                                Traceback (most recent call last)",
            "\u001b[0;32m<ipython-input-80-19602c131551>\u001b[0m in \u001b[0;36m<module>\u001b[0;34m()\u001b[0m\n\u001b[0;32m----> 1\u001b[0;31m \u001b[0md\u001b[0m\u001b[0;34m[\u001b[0m\u001b[0;36m1\u001b[0m\u001b[0;34m]\u001b[0m \u001b[0;34m=\u001b[0m \u001b[0;36m1\u001b[0m        \u001b[0;31m# 수치 키로 요소를 추가하면 오류\u001b[0m\u001b[0;34m\u001b[0m\u001b[0m\n\u001b[0m",
            "\u001b[0;32m<ipython-input-78-bec9e89ba762>\u001b[0m in \u001b[0;36m__setitem__\u001b[0;34m(self, key, value)\u001b[0m\n\u001b[1;32m     11\u001b[0m         \u001b[0;32mif\u001b[0m \u001b[0;32mnot\u001b[0m \u001b[0misinstance\u001b[0m\u001b[0;34m(\u001b[0m\u001b[0mkey\u001b[0m\u001b[0;34m,\u001b[0m \u001b[0mstr\u001b[0m\u001b[0;34m)\u001b[0m\u001b[0;34m:\u001b[0m\u001b[0;34m\u001b[0m\u001b[0m\n\u001b[1;32m     12\u001b[0m             \u001b[0;31m# 키가 문자열이 아닌 경우에는 예외를 발생\u001b[0m\u001b[0;34m\u001b[0m\u001b[0;34m\u001b[0m\u001b[0m\n\u001b[0;32m---> 13\u001b[0;31m             \u001b[0;32mraise\u001b[0m \u001b[0mValueError\u001b[0m\u001b[0;34m(\u001b[0m\u001b[0;34m\"Key must be string.\"\u001b[0m\u001b[0;34m)\u001b[0m\u001b[0;34m\u001b[0m\u001b[0m\n\u001b[0m\u001b[1;32m     14\u001b[0m             \u001b[0;31m# 슈퍼클래스의 특수 메쏘드를 호출해서 키와 값을 설정\u001b[0m\u001b[0;34m\u001b[0m\u001b[0;34m\u001b[0m\u001b[0m\n\u001b[1;32m     15\u001b[0m         \u001b[0mdict\u001b[0m\u001b[0;34m.\u001b[0m\u001b[0m__setitem__\u001b[0m\u001b[0;34m(\u001b[0m\u001b[0mself\u001b[0m\u001b[0;34m,\u001b[0m \u001b[0mkey\u001b[0m\u001b[0;34m,\u001b[0m \u001b[0mvalue\u001b[0m\u001b[0;34m)\u001b[0m\u001b[0;34m\u001b[0m\u001b[0m\n",
            "\u001b[0;31mValueError\u001b[0m: Key must be string."
          ]
        }
      ]
    },
    {
      "metadata": {
        "id": "-ZFuDOPT8lyC",
        "colab_type": "code",
        "outputId": "78ba2bc3-0981-46c8-9956-a82e20de2cbe",
        "colab": {
          "base_uri": "https://localhost:8080/",
          "height": 35
        }
      },
      "cell_type": "code",
      "source": [
        "d.keys()       # 딕셔너리 메쏘드도 이용할 수 있음"
      ],
      "execution_count": 0,
      "outputs": [
        {
          "output_type": "execute_result",
          "data": {
            "text/plain": [
              "dict_keys(['spam'])"
            ]
          },
          "metadata": {
            "tags": []
          },
          "execution_count": 81
        }
      ]
    },
    {
      "metadata": {
        "id": "WoQ7er3K8lyE",
        "colab_type": "code",
        "outputId": "2f795523-7453-4984-a040-e9c712b65bd7",
        "colab": {
          "base_uri": "https://localhost:8080/",
          "height": 35
        }
      },
      "cell_type": "code",
      "source": [
        "d[\"normal\"]=30\n",
        "d[\"normal\"]"
      ],
      "execution_count": 0,
      "outputs": [
        {
          "output_type": "execute_result",
          "data": {
            "text/plain": [
              "30"
            ]
          },
          "metadata": {
            "tags": []
          },
          "execution_count": 82
        }
      ]
    },
    {
      "metadata": {
        "id": "zx2x5Kpy8lyG",
        "colab_type": "code",
        "outputId": "2893945e-aae1-4fd2-c4ce-651a83398a28",
        "colab": {
          "base_uri": "https://localhost:8080/",
          "height": 35
        }
      },
      "cell_type": "code",
      "source": [
        "d.keys()"
      ],
      "execution_count": 0,
      "outputs": [
        {
          "output_type": "execute_result",
          "data": {
            "text/plain": [
              "dict_keys(['spam', 'normal'])"
            ]
          },
          "metadata": {
            "tags": []
          },
          "execution_count": 83
        }
      ]
    },
    {
      "metadata": {
        "id": "1pxedQXp8lyI",
        "colab_type": "code",
        "outputId": "733e1724-7fe1-4c7b-bf38-2e1403a466ff",
        "colab": {
          "base_uri": "https://localhost:8080/",
          "height": 35
        }
      },
      "cell_type": "code",
      "source": [
        "d.items()"
      ],
      "execution_count": 0,
      "outputs": [
        {
          "output_type": "execute_result",
          "data": {
            "text/plain": [
              "dict_items([('spam', 1), ('normal', 30)])"
            ]
          },
          "metadata": {
            "tags": []
          },
          "execution_count": 84
        }
      ]
    },
    {
      "metadata": {
        "id": "GT3pma8_8lyJ",
        "colab_type": "text"
      },
      "cell_type": "markdown",
      "source": [
        "# Chapter08-01\n",
        "## 모듈 파일 만들기"
      ]
    },
    {
      "metadata": {
        "id": "unBrcmm78lyK",
        "colab_type": "text"
      },
      "cell_type": "markdown",
      "source": [
        "### 모듈을 import하는 과정"
      ]
    },
    {
      "metadata": {
        "id": "E0A_f1g48lyK",
        "colab_type": "code",
        "colab": {}
      },
      "cell_type": "code",
      "source": [
        "# 모듈을 import해서 사용한다\n",
        "import testmodule    # testmodule 모듈을 임포트"
      ],
      "execution_count": 0,
      "outputs": []
    },
    {
      "metadata": {
        "id": "CLfAb7aJ8lyL",
        "colab_type": "text"
      },
      "cell_type": "markdown",
      "source": [
        "<pre>\n",
        "# testmodule.py\n",
        "    \n",
        "import sys                # 표준 라이브러리를 임포트\n",
        "\n",
        "a = 1                     # 변수를 정의함\n",
        "b = \"some string\"\n",
        "\n",
        "def foo():                # 함수를 정의함\n",
        "    print(\"This is the function 'foo'\")\n",
        "\n",
        "print(\"this is the top level\") # 문자열을 표시함\n",
        "\n",
        "if __name__ == '__main__':\n",
        "    print(\"this is the code block\")\n",
        "\n",
        "</pre>"
      ]
    },
    {
      "metadata": {
        "id": "6mg03Oip8lyL",
        "colab_type": "code",
        "colab": {}
      },
      "cell_type": "code",
      "source": [
        "testmodule.a         # 변수를 표시함"
      ],
      "execution_count": 0,
      "outputs": []
    },
    {
      "metadata": {
        "id": "Nj69OdcG8lyN",
        "colab_type": "code",
        "colab": {}
      },
      "cell_type": "code",
      "source": [
        "testmodule.b"
      ],
      "execution_count": 0,
      "outputs": []
    },
    {
      "metadata": {
        "id": "B0W7GpzV8lyP",
        "colab_type": "code",
        "colab": {}
      },
      "cell_type": "code",
      "source": [
        "testmodule.foo()     # 함수를 호출함"
      ],
      "execution_count": 0,
      "outputs": []
    },
    {
      "metadata": {
        "id": "P-BXKsow8lyP",
        "colab_type": "code",
        "colab": {}
      },
      "cell_type": "code",
      "source": [
        "testmodule.sys.argv  # 모듈 속에서 import한 모듈을 사용함"
      ],
      "execution_count": 0,
      "outputs": []
    },
    {
      "metadata": {
        "id": "LazpUpKr8lyQ",
        "colab_type": "text"
      },
      "cell_type": "markdown",
      "source": [
        "### 파일을 실행할 때만 실행하는 블록"
      ]
    },
    {
      "metadata": {
        "id": "Jb6JcycY8lyQ",
        "colab_type": "code",
        "colab": {}
      },
      "cell_type": "code",
      "source": [
        "%run testmodule.py  # %run을 사용하여 모듈을 실행"
      ],
      "execution_count": 0,
      "outputs": []
    },
    {
      "metadata": {
        "id": "bMitq7LL8lyS",
        "colab_type": "text"
      },
      "cell_type": "markdown",
      "source": [
        "### 클래스와 모듈"
      ]
    },
    {
      "metadata": {
        "id": "4OaZBba98lyS",
        "colab_type": "code",
        "colab": {}
      },
      "cell_type": "code",
      "source": [
        "# bookmark 모듈을 임포트 함\n",
        "import bookmark     # bookmark 모듈을 임포트 함\n",
        "# Bookmark 클래스에서 인스턴스를 만듦\n",
        "b = bookmark.Bookmark(\"타이틀\", \"http://path.to/site\")"
      ],
      "execution_count": 0,
      "outputs": []
    },
    {
      "metadata": {
        "id": "WRIgZMJW8lyU",
        "colab_type": "code",
        "colab": {}
      },
      "cell_type": "code",
      "source": [
        "b"
      ],
      "execution_count": 0,
      "outputs": []
    },
    {
      "metadata": {
        "id": "c-3Cyrej8lyV",
        "colab_type": "code",
        "colab": {}
      },
      "cell_type": "code",
      "source": [
        "# from문을 사용하여 Bookmark 클래스를 임포트 함\n",
        "from bookmark import Bookmark # bookmark 모듈을 임포트 함\n",
        "b2 = Bookmark(\"타이틀\", \"http://path.to/site\")"
      ],
      "execution_count": 0,
      "outputs": []
    },
    {
      "metadata": {
        "id": "9NRz4QP98lyV",
        "colab_type": "code",
        "colab": {}
      },
      "cell_type": "code",
      "source": [
        "b2"
      ],
      "execution_count": 0,
      "outputs": []
    },
    {
      "metadata": {
        "id": "4wMHihF68lyV",
        "colab_type": "code",
        "colab": {}
      },
      "cell_type": "code",
      "source": [
        "dir(b2)"
      ],
      "execution_count": 0,
      "outputs": []
    },
    {
      "metadata": {
        "id": "7xRsf1dI8lyX",
        "colab_type": "code",
        "colab": {}
      },
      "cell_type": "code",
      "source": [
        "b2.title, b2.url"
      ],
      "execution_count": 0,
      "outputs": []
    },
    {
      "metadata": {
        "id": "qICyt5cX8lyX",
        "colab_type": "code",
        "colab": {}
      },
      "cell_type": "code",
      "source": [
        "# bookmark.Bookmark 클래스의 상속\n",
        "import bookmark # bookmark 모듈을 임포트 함\n",
        "\n",
        "class Blogmark(bookmark.Bookmark):\n",
        "    pass"
      ],
      "execution_count": 0,
      "outputs": []
    },
    {
      "metadata": {
        "id": "Bf4BGSJZ8lyY",
        "colab_type": "code",
        "colab": {}
      },
      "cell_type": "code",
      "source": [
        "# from 문장을 사용하여 Bookmark 클래스를 임포트해서 상속함\n",
        "from bookmark import Bookmark # bookmark 모듈을 임포트 함\n",
        "class Blogmark(Bookmark):\n",
        "    pass"
      ],
      "execution_count": 0,
      "outputs": []
    },
    {
      "metadata": {
        "id": "mMDJFfMH8lyY",
        "colab_type": "text"
      },
      "cell_type": "markdown",
      "source": [
        "***"
      ]
    },
    {
      "metadata": {
        "id": "Ay4gYqC68lyZ",
        "colab_type": "text"
      },
      "cell_type": "markdown",
      "source": [
        "## [wk09] homework\n",
        "\n",
        "> 다음 Youtube 강의를 들으면서 파이썬 노트북을 만들어서 각자의 github에 올리시오.(마감: 2018.10.28. 24:00)\n",
        "\n",
        "#### 제출 파일명: Summary_class.ipynb\n"
      ]
    },
    {
      "metadata": {
        "id": "8WD7Q9c58lyZ",
        "colab_type": "code",
        "outputId": "e023f118-8035-4173-961f-1dfb5ca78453",
        "colab": {
          "base_uri": "https://localhost:8080/",
          "height": 320
        }
      },
      "cell_type": "code",
      "source": [
        "from IPython.lib.display import YouTubeVideo\n",
        "YouTubeVideo('5Xy5Ju7hYo4')  # 파이썬 클래스, 예외처리, with"
      ],
      "execution_count": 0,
      "outputs": [
        {
          "output_type": "execute_result",
          "data": {
            "text/html": [
              "\n",
              "        <iframe\n",
              "            width=\"400\"\n",
              "            height=\"300\"\n",
              "            src=\"https://www.youtube.com/embed/5Xy5Ju7hYo4\"\n",
              "            frameborder=\"0\"\n",
              "            allowfullscreen\n",
              "        ></iframe>\n",
              "        "
            ],
            "text/plain": [
              "<IPython.lib.display.YouTubeVideo at 0x7f872f891588>"
            ],
            "image/jpeg": "[encoded data removed]"
          },
          "metadata": {
            "tags": []
          },
          "execution_count": 85
        }
      ]
    },
    {
      "metadata": {
        "id": "MyyOxckt8lyb",
        "colab_type": "text"
      },
      "cell_type": "markdown",
      "source": [
        "***"
      ]
    },
    {
      "metadata": {
        "id": "g86451ER8lyb",
        "colab_type": "code",
        "colab": {}
      },
      "cell_type": "code",
      "source": [
        ""
      ],
      "execution_count": 0,
      "outputs": []
    }
  ]
}